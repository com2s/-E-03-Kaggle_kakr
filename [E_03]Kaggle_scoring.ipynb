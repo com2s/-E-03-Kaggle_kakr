{
  "metadata": {
    "kernelspec": {
      "language": "python",
      "display_name": "Python 3",
      "name": "python3"
    },
    "language_info": {
      "name": "python",
      "version": "3.7.12",
      "mimetype": "text/x-python",
      "codemirror_mode": {
        "name": "ipython",
        "version": 3
      },
      "pygments_lexer": "ipython3",
      "nbconvert_exporter": "python",
      "file_extension": ".py"
    },
    "colab": {
      "provenance": [],
      "collapsed_sections": []
    }
  },
  "nbformat_minor": 0,
  "nbformat": 4,
  "cells": [
    {
      "cell_type": "markdown",
      "source": [
        "# 목차\n",
        "\n",
        "* 데이터 전처리\n",
        "* 하이퍼 파라미터 조정\n",
        "* 결과 제출하고 스코어 확인\n",
        "* Reference\n",
        "* 회고\n",
        "-------------------------\n",
        "## 루브릭 평가기준\n",
        "\n",
        "1. 캐글 데이터분석 전과정이 성공적으로 진행되었는가?  \n",
        "데이터 전처리, 모델학습, 예측의 전체 과정을 거쳐 만든 csv파일을 캐글 My submission까지 진행했고, submission 결과를 이미지로 제출하였다.\n",
        "\n",
        "2. 전처리, 학습과정 및 결과에 대한 설명이 시각화를 포함하여 체계적으로 진행되었는가?  \n",
        "제출한 주피터노트북 파일이 전처리, 학습, 최적화 진행 과정이 체계적으로 기술되었다.\n",
        "\n",
        "3. 회귀모델 예측정확도가 기준 이상 높게 나왔는가?  \n",
        "다양한 피처 엔지니어링과 하이퍼 파라미터 튜닝 등의 최적화 기법을 통해 캐글 리더보드의 Private score 기준 110000 이하의 점수를 얻었다."
      ],
      "metadata": {
        "id": "HgD3t_hLB8lK"
      }
    },
    {
      "cell_type": "code",
      "source": [
        "from google.colab import drive\n",
        "drive.mount('/content/drive')"
      ],
      "metadata": {
        "colab": {
          "base_uri": "https://localhost:8080/"
        },
        "id": "rai7_2lrEXRq",
        "outputId": "a663e6ef-c429-4aba-c544-40769c23edd0"
      },
      "execution_count": 1,
      "outputs": [
        {
          "output_type": "stream",
          "name": "stdout",
          "text": [
            "Mounted at /content/drive\n"
          ]
        }
      ]
    },
    {
      "cell_type": "code",
      "source": [
        "# 시각화 그래프가 나타날 수 있도록\n",
        "\n",
        "import matplotlib.pyplot as plt\n",
        "%matplotlib inline\n",
        "%config InlineBackend.figure_format = 'retina'"
      ],
      "metadata": {
        "execution": {
          "iopub.status.busy": "2022-09-22T16:01:26.487754Z",
          "iopub.execute_input": "2022-09-22T16:01:26.488283Z",
          "iopub.status.idle": "2022-09-22T16:01:26.508808Z",
          "shell.execute_reply.started": "2022-09-22T16:01:26.488241Z",
          "shell.execute_reply": "2022-09-22T16:01:26.507665Z"
        },
        "trusted": true,
        "id": "9BHW00ZnDffC"
      },
      "execution_count": 2,
      "outputs": []
    },
    {
      "cell_type": "code",
      "source": [
        "# 필요한 라이브러리 가져오기\n",
        "\n",
        "import warnings\n",
        "warnings.filterwarnings(\"ignore\")\n",
        "\n",
        "import os\n",
        "from os.path import join\n",
        "\n",
        "import pandas as pd\n",
        "import numpy as np\n",
        "\n",
        "import missingno as msno\n",
        "\n",
        "from sklearn.ensemble import GradientBoostingRegressor\n",
        "from sklearn.model_selection import KFold, cross_val_score\n",
        "import xgboost as xgb\n",
        "import lightgbm as lgb\n",
        "\n",
        "import matplotlib.pyplot as plt\n",
        "import seaborn as sns"
      ],
      "metadata": {
        "execution": {
          "iopub.status.busy": "2022-09-22T16:01:26.510924Z",
          "iopub.execute_input": "2022-09-22T16:01:26.511294Z",
          "iopub.status.idle": "2022-09-22T16:01:26.517886Z",
          "shell.execute_reply.started": "2022-09-22T16:01:26.511262Z",
          "shell.execute_reply": "2022-09-22T16:01:26.516684Z"
        },
        "trusted": true,
        "id": "OvhjyWFwDffH"
      },
      "execution_count": 34,
      "outputs": []
    },
    {
      "cell_type": "markdown",
      "source": [
        "# 데이터 전처리"
      ],
      "metadata": {
        "id": "eZQ1NIW-ChaW"
      }
    },
    {
      "cell_type": "code",
      "source": [
        "data_dir = '/content/drive/MyDrive/아이펠 데이터/kaggle_kakr_housing/data'\n",
        "\n",
        "train_data_path = join(data_dir, 'train.csv')\n",
        "test_data_path = join(data_dir, 'test.csv')      # 테스트, 즉 submission 시 사용할 데이터 경로\n",
        "\n",
        "print(train_data_path)\n",
        "print(test_data_path)\n",
        "\n",
        "train = pd.read_csv(train_data_path)\n",
        "test = pd.read_csv(test_data_path)"
      ],
      "metadata": {
        "execution": {
          "iopub.status.busy": "2022-09-22T16:01:26.519443Z",
          "iopub.execute_input": "2022-09-22T16:01:26.519841Z",
          "iopub.status.idle": "2022-09-22T16:01:26.611015Z",
          "shell.execute_reply.started": "2022-09-22T16:01:26.519805Z",
          "shell.execute_reply": "2022-09-22T16:01:26.609980Z"
        },
        "trusted": true,
        "colab": {
          "base_uri": "https://localhost:8080/"
        },
        "id": "T4254pGUDffH",
        "outputId": "9bb94bfa-ce35-4072-cafc-41ed7a2d15ae"
      },
      "execution_count": 35,
      "outputs": [
        {
          "output_type": "stream",
          "name": "stdout",
          "text": [
            "/content/drive/MyDrive/아이펠 데이터/kaggle_kakr_housing/data/train.csv\n",
            "/content/drive/MyDrive/아이펠 데이터/kaggle_kakr_housing/data/test.csv\n"
          ]
        }
      ]
    },
    {
      "cell_type": "code",
      "source": [
        "train.head()"
      ],
      "metadata": {
        "execution": {
          "iopub.status.busy": "2022-09-22T16:01:26.612607Z",
          "iopub.execute_input": "2022-09-22T16:01:26.613589Z",
          "iopub.status.idle": "2022-09-22T16:01:26.641341Z",
          "shell.execute_reply.started": "2022-09-22T16:01:26.613548Z",
          "shell.execute_reply": "2022-09-22T16:01:26.640210Z"
        },
        "trusted": true,
        "colab": {
          "base_uri": "https://localhost:8080/",
          "height": 300
        },
        "id": "6vOzusqwDffI",
        "outputId": "ba595a74-740d-4a37-f24a-1ae97a3410de"
      },
      "execution_count": 36,
      "outputs": [
        {
          "output_type": "execute_result",
          "data": {
            "text/plain": [
              "   id             date     price  bedrooms  bathrooms  sqft_living  sqft_lot  \\\n",
              "0   0  20141013T000000  221900.0         3       1.00         1180      5650   \n",
              "1   1  20150225T000000  180000.0         2       1.00          770     10000   \n",
              "2   2  20150218T000000  510000.0         3       2.00         1680      8080   \n",
              "3   3  20140627T000000  257500.0         3       2.25         1715      6819   \n",
              "4   4  20150115T000000  291850.0         3       1.50         1060      9711   \n",
              "\n",
              "   floors  waterfront  view  ...  grade  sqft_above  sqft_basement  yr_built  \\\n",
              "0     1.0           0     0  ...      7        1180              0      1955   \n",
              "1     1.0           0     0  ...      6         770              0      1933   \n",
              "2     1.0           0     0  ...      8        1680              0      1987   \n",
              "3     2.0           0     0  ...      7        1715              0      1995   \n",
              "4     1.0           0     0  ...      7        1060              0      1963   \n",
              "\n",
              "   yr_renovated  zipcode      lat     long  sqft_living15  sqft_lot15  \n",
              "0             0    98178  47.5112 -122.257           1340        5650  \n",
              "1             0    98028  47.7379 -122.233           2720        8062  \n",
              "2             0    98074  47.6168 -122.045           1800        7503  \n",
              "3             0    98003  47.3097 -122.327           2238        6819  \n",
              "4             0    98198  47.4095 -122.315           1650        9711  \n",
              "\n",
              "[5 rows x 21 columns]"
            ],
            "text/html": [
              "\n",
              "  <div id=\"df-f314f056-bbbc-4699-a29a-43357d727583\">\n",
              "    <div class=\"colab-df-container\">\n",
              "      <div>\n",
              "<style scoped>\n",
              "    .dataframe tbody tr th:only-of-type {\n",
              "        vertical-align: middle;\n",
              "    }\n",
              "\n",
              "    .dataframe tbody tr th {\n",
              "        vertical-align: top;\n",
              "    }\n",
              "\n",
              "    .dataframe thead th {\n",
              "        text-align: right;\n",
              "    }\n",
              "</style>\n",
              "<table border=\"1\" class=\"dataframe\">\n",
              "  <thead>\n",
              "    <tr style=\"text-align: right;\">\n",
              "      <th></th>\n",
              "      <th>id</th>\n",
              "      <th>date</th>\n",
              "      <th>price</th>\n",
              "      <th>bedrooms</th>\n",
              "      <th>bathrooms</th>\n",
              "      <th>sqft_living</th>\n",
              "      <th>sqft_lot</th>\n",
              "      <th>floors</th>\n",
              "      <th>waterfront</th>\n",
              "      <th>view</th>\n",
              "      <th>...</th>\n",
              "      <th>grade</th>\n",
              "      <th>sqft_above</th>\n",
              "      <th>sqft_basement</th>\n",
              "      <th>yr_built</th>\n",
              "      <th>yr_renovated</th>\n",
              "      <th>zipcode</th>\n",
              "      <th>lat</th>\n",
              "      <th>long</th>\n",
              "      <th>sqft_living15</th>\n",
              "      <th>sqft_lot15</th>\n",
              "    </tr>\n",
              "  </thead>\n",
              "  <tbody>\n",
              "    <tr>\n",
              "      <th>0</th>\n",
              "      <td>0</td>\n",
              "      <td>20141013T000000</td>\n",
              "      <td>221900.0</td>\n",
              "      <td>3</td>\n",
              "      <td>1.00</td>\n",
              "      <td>1180</td>\n",
              "      <td>5650</td>\n",
              "      <td>1.0</td>\n",
              "      <td>0</td>\n",
              "      <td>0</td>\n",
              "      <td>...</td>\n",
              "      <td>7</td>\n",
              "      <td>1180</td>\n",
              "      <td>0</td>\n",
              "      <td>1955</td>\n",
              "      <td>0</td>\n",
              "      <td>98178</td>\n",
              "      <td>47.5112</td>\n",
              "      <td>-122.257</td>\n",
              "      <td>1340</td>\n",
              "      <td>5650</td>\n",
              "    </tr>\n",
              "    <tr>\n",
              "      <th>1</th>\n",
              "      <td>1</td>\n",
              "      <td>20150225T000000</td>\n",
              "      <td>180000.0</td>\n",
              "      <td>2</td>\n",
              "      <td>1.00</td>\n",
              "      <td>770</td>\n",
              "      <td>10000</td>\n",
              "      <td>1.0</td>\n",
              "      <td>0</td>\n",
              "      <td>0</td>\n",
              "      <td>...</td>\n",
              "      <td>6</td>\n",
              "      <td>770</td>\n",
              "      <td>0</td>\n",
              "      <td>1933</td>\n",
              "      <td>0</td>\n",
              "      <td>98028</td>\n",
              "      <td>47.7379</td>\n",
              "      <td>-122.233</td>\n",
              "      <td>2720</td>\n",
              "      <td>8062</td>\n",
              "    </tr>\n",
              "    <tr>\n",
              "      <th>2</th>\n",
              "      <td>2</td>\n",
              "      <td>20150218T000000</td>\n",
              "      <td>510000.0</td>\n",
              "      <td>3</td>\n",
              "      <td>2.00</td>\n",
              "      <td>1680</td>\n",
              "      <td>8080</td>\n",
              "      <td>1.0</td>\n",
              "      <td>0</td>\n",
              "      <td>0</td>\n",
              "      <td>...</td>\n",
              "      <td>8</td>\n",
              "      <td>1680</td>\n",
              "      <td>0</td>\n",
              "      <td>1987</td>\n",
              "      <td>0</td>\n",
              "      <td>98074</td>\n",
              "      <td>47.6168</td>\n",
              "      <td>-122.045</td>\n",
              "      <td>1800</td>\n",
              "      <td>7503</td>\n",
              "    </tr>\n",
              "    <tr>\n",
              "      <th>3</th>\n",
              "      <td>3</td>\n",
              "      <td>20140627T000000</td>\n",
              "      <td>257500.0</td>\n",
              "      <td>3</td>\n",
              "      <td>2.25</td>\n",
              "      <td>1715</td>\n",
              "      <td>6819</td>\n",
              "      <td>2.0</td>\n",
              "      <td>0</td>\n",
              "      <td>0</td>\n",
              "      <td>...</td>\n",
              "      <td>7</td>\n",
              "      <td>1715</td>\n",
              "      <td>0</td>\n",
              "      <td>1995</td>\n",
              "      <td>0</td>\n",
              "      <td>98003</td>\n",
              "      <td>47.3097</td>\n",
              "      <td>-122.327</td>\n",
              "      <td>2238</td>\n",
              "      <td>6819</td>\n",
              "    </tr>\n",
              "    <tr>\n",
              "      <th>4</th>\n",
              "      <td>4</td>\n",
              "      <td>20150115T000000</td>\n",
              "      <td>291850.0</td>\n",
              "      <td>3</td>\n",
              "      <td>1.50</td>\n",
              "      <td>1060</td>\n",
              "      <td>9711</td>\n",
              "      <td>1.0</td>\n",
              "      <td>0</td>\n",
              "      <td>0</td>\n",
              "      <td>...</td>\n",
              "      <td>7</td>\n",
              "      <td>1060</td>\n",
              "      <td>0</td>\n",
              "      <td>1963</td>\n",
              "      <td>0</td>\n",
              "      <td>98198</td>\n",
              "      <td>47.4095</td>\n",
              "      <td>-122.315</td>\n",
              "      <td>1650</td>\n",
              "      <td>9711</td>\n",
              "    </tr>\n",
              "  </tbody>\n",
              "</table>\n",
              "<p>5 rows × 21 columns</p>\n",
              "</div>\n",
              "      <button class=\"colab-df-convert\" onclick=\"convertToInteractive('df-f314f056-bbbc-4699-a29a-43357d727583')\"\n",
              "              title=\"Convert this dataframe to an interactive table.\"\n",
              "              style=\"display:none;\">\n",
              "        \n",
              "  <svg xmlns=\"http://www.w3.org/2000/svg\" height=\"24px\"viewBox=\"0 0 24 24\"\n",
              "       width=\"24px\">\n",
              "    <path d=\"M0 0h24v24H0V0z\" fill=\"none\"/>\n",
              "    <path d=\"M18.56 5.44l.94 2.06.94-2.06 2.06-.94-2.06-.94-.94-2.06-.94 2.06-2.06.94zm-11 1L8.5 8.5l.94-2.06 2.06-.94-2.06-.94L8.5 2.5l-.94 2.06-2.06.94zm10 10l.94 2.06.94-2.06 2.06-.94-2.06-.94-.94-2.06-.94 2.06-2.06.94z\"/><path d=\"M17.41 7.96l-1.37-1.37c-.4-.4-.92-.59-1.43-.59-.52 0-1.04.2-1.43.59L10.3 9.45l-7.72 7.72c-.78.78-.78 2.05 0 2.83L4 21.41c.39.39.9.59 1.41.59.51 0 1.02-.2 1.41-.59l7.78-7.78 2.81-2.81c.8-.78.8-2.07 0-2.86zM5.41 20L4 18.59l7.72-7.72 1.47 1.35L5.41 20z\"/>\n",
              "  </svg>\n",
              "      </button>\n",
              "      \n",
              "  <style>\n",
              "    .colab-df-container {\n",
              "      display:flex;\n",
              "      flex-wrap:wrap;\n",
              "      gap: 12px;\n",
              "    }\n",
              "\n",
              "    .colab-df-convert {\n",
              "      background-color: #E8F0FE;\n",
              "      border: none;\n",
              "      border-radius: 50%;\n",
              "      cursor: pointer;\n",
              "      display: none;\n",
              "      fill: #1967D2;\n",
              "      height: 32px;\n",
              "      padding: 0 0 0 0;\n",
              "      width: 32px;\n",
              "    }\n",
              "\n",
              "    .colab-df-convert:hover {\n",
              "      background-color: #E2EBFA;\n",
              "      box-shadow: 0px 1px 2px rgba(60, 64, 67, 0.3), 0px 1px 3px 1px rgba(60, 64, 67, 0.15);\n",
              "      fill: #174EA6;\n",
              "    }\n",
              "\n",
              "    [theme=dark] .colab-df-convert {\n",
              "      background-color: #3B4455;\n",
              "      fill: #D2E3FC;\n",
              "    }\n",
              "\n",
              "    [theme=dark] .colab-df-convert:hover {\n",
              "      background-color: #434B5C;\n",
              "      box-shadow: 0px 1px 3px 1px rgba(0, 0, 0, 0.15);\n",
              "      filter: drop-shadow(0px 1px 2px rgba(0, 0, 0, 0.3));\n",
              "      fill: #FFFFFF;\n",
              "    }\n",
              "  </style>\n",
              "\n",
              "      <script>\n",
              "        const buttonEl =\n",
              "          document.querySelector('#df-f314f056-bbbc-4699-a29a-43357d727583 button.colab-df-convert');\n",
              "        buttonEl.style.display =\n",
              "          google.colab.kernel.accessAllowed ? 'block' : 'none';\n",
              "\n",
              "        async function convertToInteractive(key) {\n",
              "          const element = document.querySelector('#df-f314f056-bbbc-4699-a29a-43357d727583');\n",
              "          const dataTable =\n",
              "            await google.colab.kernel.invokeFunction('convertToInteractive',\n",
              "                                                     [key], {});\n",
              "          if (!dataTable) return;\n",
              "\n",
              "          const docLinkHtml = 'Like what you see? Visit the ' +\n",
              "            '<a target=\"_blank\" href=https://colab.research.google.com/notebooks/data_table.ipynb>data table notebook</a>'\n",
              "            + ' to learn more about interactive tables.';\n",
              "          element.innerHTML = '';\n",
              "          dataTable['output_type'] = 'display_data';\n",
              "          await google.colab.output.renderOutput(dataTable, element);\n",
              "          const docLink = document.createElement('div');\n",
              "          docLink.innerHTML = docLinkHtml;\n",
              "          element.appendChild(docLink);\n",
              "        }\n",
              "      </script>\n",
              "    </div>\n",
              "  </div>\n",
              "  "
            ]
          },
          "metadata": {},
          "execution_count": 36
        }
      ]
    },
    {
      "cell_type": "code",
      "source": [
        "# date열을 년도와 월로 분리함.\n",
        "\n",
        "train['year'] = train['date'].apply(lambda i: i[:4]).astype(int)\n",
        "train['month'] = train['date'].apply(lambda i: i[4:6]).astype(int)\n",
        "\n",
        "del train['date']\n",
        "\n",
        "train.head()"
      ],
      "metadata": {
        "execution": {
          "iopub.status.busy": "2022-09-22T16:01:26.644254Z",
          "iopub.execute_input": "2022-09-22T16:01:26.644654Z",
          "iopub.status.idle": "2022-09-22T16:01:26.689144Z",
          "shell.execute_reply.started": "2022-09-22T16:01:26.644619Z",
          "shell.execute_reply": "2022-09-22T16:01:26.687636Z"
        },
        "trusted": true,
        "colab": {
          "base_uri": "https://localhost:8080/",
          "height": 300
        },
        "id": "xm0Iuug7DffJ",
        "outputId": "24fe6e77-a245-4f99-8830-6788c27302ca"
      },
      "execution_count": 37,
      "outputs": [
        {
          "output_type": "execute_result",
          "data": {
            "text/plain": [
              "   id     price  bedrooms  bathrooms  sqft_living  sqft_lot  floors  \\\n",
              "0   0  221900.0         3       1.00         1180      5650     1.0   \n",
              "1   1  180000.0         2       1.00          770     10000     1.0   \n",
              "2   2  510000.0         3       2.00         1680      8080     1.0   \n",
              "3   3  257500.0         3       2.25         1715      6819     2.0   \n",
              "4   4  291850.0         3       1.50         1060      9711     1.0   \n",
              "\n",
              "   waterfront  view  condition  ...  sqft_basement  yr_built  yr_renovated  \\\n",
              "0           0     0          3  ...              0      1955             0   \n",
              "1           0     0          3  ...              0      1933             0   \n",
              "2           0     0          3  ...              0      1987             0   \n",
              "3           0     0          3  ...              0      1995             0   \n",
              "4           0     0          3  ...              0      1963             0   \n",
              "\n",
              "   zipcode      lat     long  sqft_living15  sqft_lot15  year  month  \n",
              "0    98178  47.5112 -122.257           1340        5650  2014     10  \n",
              "1    98028  47.7379 -122.233           2720        8062  2015      2  \n",
              "2    98074  47.6168 -122.045           1800        7503  2015      2  \n",
              "3    98003  47.3097 -122.327           2238        6819  2014      6  \n",
              "4    98198  47.4095 -122.315           1650        9711  2015      1  \n",
              "\n",
              "[5 rows x 22 columns]"
            ],
            "text/html": [
              "\n",
              "  <div id=\"df-78bc4cc3-32eb-4498-b320-fe0a30cbc113\">\n",
              "    <div class=\"colab-df-container\">\n",
              "      <div>\n",
              "<style scoped>\n",
              "    .dataframe tbody tr th:only-of-type {\n",
              "        vertical-align: middle;\n",
              "    }\n",
              "\n",
              "    .dataframe tbody tr th {\n",
              "        vertical-align: top;\n",
              "    }\n",
              "\n",
              "    .dataframe thead th {\n",
              "        text-align: right;\n",
              "    }\n",
              "</style>\n",
              "<table border=\"1\" class=\"dataframe\">\n",
              "  <thead>\n",
              "    <tr style=\"text-align: right;\">\n",
              "      <th></th>\n",
              "      <th>id</th>\n",
              "      <th>price</th>\n",
              "      <th>bedrooms</th>\n",
              "      <th>bathrooms</th>\n",
              "      <th>sqft_living</th>\n",
              "      <th>sqft_lot</th>\n",
              "      <th>floors</th>\n",
              "      <th>waterfront</th>\n",
              "      <th>view</th>\n",
              "      <th>condition</th>\n",
              "      <th>...</th>\n",
              "      <th>sqft_basement</th>\n",
              "      <th>yr_built</th>\n",
              "      <th>yr_renovated</th>\n",
              "      <th>zipcode</th>\n",
              "      <th>lat</th>\n",
              "      <th>long</th>\n",
              "      <th>sqft_living15</th>\n",
              "      <th>sqft_lot15</th>\n",
              "      <th>year</th>\n",
              "      <th>month</th>\n",
              "    </tr>\n",
              "  </thead>\n",
              "  <tbody>\n",
              "    <tr>\n",
              "      <th>0</th>\n",
              "      <td>0</td>\n",
              "      <td>221900.0</td>\n",
              "      <td>3</td>\n",
              "      <td>1.00</td>\n",
              "      <td>1180</td>\n",
              "      <td>5650</td>\n",
              "      <td>1.0</td>\n",
              "      <td>0</td>\n",
              "      <td>0</td>\n",
              "      <td>3</td>\n",
              "      <td>...</td>\n",
              "      <td>0</td>\n",
              "      <td>1955</td>\n",
              "      <td>0</td>\n",
              "      <td>98178</td>\n",
              "      <td>47.5112</td>\n",
              "      <td>-122.257</td>\n",
              "      <td>1340</td>\n",
              "      <td>5650</td>\n",
              "      <td>2014</td>\n",
              "      <td>10</td>\n",
              "    </tr>\n",
              "    <tr>\n",
              "      <th>1</th>\n",
              "      <td>1</td>\n",
              "      <td>180000.0</td>\n",
              "      <td>2</td>\n",
              "      <td>1.00</td>\n",
              "      <td>770</td>\n",
              "      <td>10000</td>\n",
              "      <td>1.0</td>\n",
              "      <td>0</td>\n",
              "      <td>0</td>\n",
              "      <td>3</td>\n",
              "      <td>...</td>\n",
              "      <td>0</td>\n",
              "      <td>1933</td>\n",
              "      <td>0</td>\n",
              "      <td>98028</td>\n",
              "      <td>47.7379</td>\n",
              "      <td>-122.233</td>\n",
              "      <td>2720</td>\n",
              "      <td>8062</td>\n",
              "      <td>2015</td>\n",
              "      <td>2</td>\n",
              "    </tr>\n",
              "    <tr>\n",
              "      <th>2</th>\n",
              "      <td>2</td>\n",
              "      <td>510000.0</td>\n",
              "      <td>3</td>\n",
              "      <td>2.00</td>\n",
              "      <td>1680</td>\n",
              "      <td>8080</td>\n",
              "      <td>1.0</td>\n",
              "      <td>0</td>\n",
              "      <td>0</td>\n",
              "      <td>3</td>\n",
              "      <td>...</td>\n",
              "      <td>0</td>\n",
              "      <td>1987</td>\n",
              "      <td>0</td>\n",
              "      <td>98074</td>\n",
              "      <td>47.6168</td>\n",
              "      <td>-122.045</td>\n",
              "      <td>1800</td>\n",
              "      <td>7503</td>\n",
              "      <td>2015</td>\n",
              "      <td>2</td>\n",
              "    </tr>\n",
              "    <tr>\n",
              "      <th>3</th>\n",
              "      <td>3</td>\n",
              "      <td>257500.0</td>\n",
              "      <td>3</td>\n",
              "      <td>2.25</td>\n",
              "      <td>1715</td>\n",
              "      <td>6819</td>\n",
              "      <td>2.0</td>\n",
              "      <td>0</td>\n",
              "      <td>0</td>\n",
              "      <td>3</td>\n",
              "      <td>...</td>\n",
              "      <td>0</td>\n",
              "      <td>1995</td>\n",
              "      <td>0</td>\n",
              "      <td>98003</td>\n",
              "      <td>47.3097</td>\n",
              "      <td>-122.327</td>\n",
              "      <td>2238</td>\n",
              "      <td>6819</td>\n",
              "      <td>2014</td>\n",
              "      <td>6</td>\n",
              "    </tr>\n",
              "    <tr>\n",
              "      <th>4</th>\n",
              "      <td>4</td>\n",
              "      <td>291850.0</td>\n",
              "      <td>3</td>\n",
              "      <td>1.50</td>\n",
              "      <td>1060</td>\n",
              "      <td>9711</td>\n",
              "      <td>1.0</td>\n",
              "      <td>0</td>\n",
              "      <td>0</td>\n",
              "      <td>3</td>\n",
              "      <td>...</td>\n",
              "      <td>0</td>\n",
              "      <td>1963</td>\n",
              "      <td>0</td>\n",
              "      <td>98198</td>\n",
              "      <td>47.4095</td>\n",
              "      <td>-122.315</td>\n",
              "      <td>1650</td>\n",
              "      <td>9711</td>\n",
              "      <td>2015</td>\n",
              "      <td>1</td>\n",
              "    </tr>\n",
              "  </tbody>\n",
              "</table>\n",
              "<p>5 rows × 22 columns</p>\n",
              "</div>\n",
              "      <button class=\"colab-df-convert\" onclick=\"convertToInteractive('df-78bc4cc3-32eb-4498-b320-fe0a30cbc113')\"\n",
              "              title=\"Convert this dataframe to an interactive table.\"\n",
              "              style=\"display:none;\">\n",
              "        \n",
              "  <svg xmlns=\"http://www.w3.org/2000/svg\" height=\"24px\"viewBox=\"0 0 24 24\"\n",
              "       width=\"24px\">\n",
              "    <path d=\"M0 0h24v24H0V0z\" fill=\"none\"/>\n",
              "    <path d=\"M18.56 5.44l.94 2.06.94-2.06 2.06-.94-2.06-.94-.94-2.06-.94 2.06-2.06.94zm-11 1L8.5 8.5l.94-2.06 2.06-.94-2.06-.94L8.5 2.5l-.94 2.06-2.06.94zm10 10l.94 2.06.94-2.06 2.06-.94-2.06-.94-.94-2.06-.94 2.06-2.06.94z\"/><path d=\"M17.41 7.96l-1.37-1.37c-.4-.4-.92-.59-1.43-.59-.52 0-1.04.2-1.43.59L10.3 9.45l-7.72 7.72c-.78.78-.78 2.05 0 2.83L4 21.41c.39.39.9.59 1.41.59.51 0 1.02-.2 1.41-.59l7.78-7.78 2.81-2.81c.8-.78.8-2.07 0-2.86zM5.41 20L4 18.59l7.72-7.72 1.47 1.35L5.41 20z\"/>\n",
              "  </svg>\n",
              "      </button>\n",
              "      \n",
              "  <style>\n",
              "    .colab-df-container {\n",
              "      display:flex;\n",
              "      flex-wrap:wrap;\n",
              "      gap: 12px;\n",
              "    }\n",
              "\n",
              "    .colab-df-convert {\n",
              "      background-color: #E8F0FE;\n",
              "      border: none;\n",
              "      border-radius: 50%;\n",
              "      cursor: pointer;\n",
              "      display: none;\n",
              "      fill: #1967D2;\n",
              "      height: 32px;\n",
              "      padding: 0 0 0 0;\n",
              "      width: 32px;\n",
              "    }\n",
              "\n",
              "    .colab-df-convert:hover {\n",
              "      background-color: #E2EBFA;\n",
              "      box-shadow: 0px 1px 2px rgba(60, 64, 67, 0.3), 0px 1px 3px 1px rgba(60, 64, 67, 0.15);\n",
              "      fill: #174EA6;\n",
              "    }\n",
              "\n",
              "    [theme=dark] .colab-df-convert {\n",
              "      background-color: #3B4455;\n",
              "      fill: #D2E3FC;\n",
              "    }\n",
              "\n",
              "    [theme=dark] .colab-df-convert:hover {\n",
              "      background-color: #434B5C;\n",
              "      box-shadow: 0px 1px 3px 1px rgba(0, 0, 0, 0.15);\n",
              "      filter: drop-shadow(0px 1px 2px rgba(0, 0, 0, 0.3));\n",
              "      fill: #FFFFFF;\n",
              "    }\n",
              "  </style>\n",
              "\n",
              "      <script>\n",
              "        const buttonEl =\n",
              "          document.querySelector('#df-78bc4cc3-32eb-4498-b320-fe0a30cbc113 button.colab-df-convert');\n",
              "        buttonEl.style.display =\n",
              "          google.colab.kernel.accessAllowed ? 'block' : 'none';\n",
              "\n",
              "        async function convertToInteractive(key) {\n",
              "          const element = document.querySelector('#df-78bc4cc3-32eb-4498-b320-fe0a30cbc113');\n",
              "          const dataTable =\n",
              "            await google.colab.kernel.invokeFunction('convertToInteractive',\n",
              "                                                     [key], {});\n",
              "          if (!dataTable) return;\n",
              "\n",
              "          const docLinkHtml = 'Like what you see? Visit the ' +\n",
              "            '<a target=\"_blank\" href=https://colab.research.google.com/notebooks/data_table.ipynb>data table notebook</a>'\n",
              "            + ' to learn more about interactive tables.';\n",
              "          element.innerHTML = '';\n",
              "          dataTable['output_type'] = 'display_data';\n",
              "          await google.colab.output.renderOutput(dataTable, element);\n",
              "          const docLink = document.createElement('div');\n",
              "          docLink.innerHTML = docLinkHtml;\n",
              "          element.appendChild(docLink);\n",
              "        }\n",
              "      </script>\n",
              "    </div>\n",
              "  </div>\n",
              "  "
            ]
          },
          "metadata": {},
          "execution_count": 37
        }
      ]
    },
    {
      "cell_type": "markdown",
      "source": [
        "기존의 date열은 지나치게 길 뿐더러 년도와 월이 합쳐져 있었다. 그러나 시간은 10진법으로 쓰이지 않기 때문에 이것을 하나의 수로 표현하는 것보다 분리하는 것이 더 좋은 방법으로 보였다.  \n",
        "이렇게 함으로써 시간의 흐름을 보다 명확하게 표현할 수 있을 것이다."
      ],
      "metadata": {
        "id": "Y3c0m2ocClwE"
      }
    },
    {
      "cell_type": "code",
      "source": [
        "# 타겟 데이터 분리\n",
        "\n",
        "y = train['price']\n",
        "del train['price']\n",
        "\n",
        "# id 컬럼 삭제\n",
        "\n",
        "del train['id']\n",
        "\n",
        "print(train.columns)"
      ],
      "metadata": {
        "execution": {
          "iopub.status.busy": "2022-09-22T16:01:26.690901Z",
          "iopub.execute_input": "2022-09-22T16:01:26.691734Z",
          "iopub.status.idle": "2022-09-22T16:01:26.701557Z",
          "shell.execute_reply.started": "2022-09-22T16:01:26.691685Z",
          "shell.execute_reply": "2022-09-22T16:01:26.700232Z"
        },
        "trusted": true,
        "colab": {
          "base_uri": "https://localhost:8080/"
        },
        "id": "YfV0PCarDffK",
        "outputId": "bc18a4a4-9dbf-41f0-dcd4-21a32ffeeacb"
      },
      "execution_count": 38,
      "outputs": [
        {
          "output_type": "stream",
          "name": "stdout",
          "text": [
            "Index(['bedrooms', 'bathrooms', 'sqft_living', 'sqft_lot', 'floors',\n",
            "       'waterfront', 'view', 'condition', 'grade', 'sqft_above',\n",
            "       'sqft_basement', 'yr_built', 'yr_renovated', 'zipcode', 'lat', 'long',\n",
            "       'sqft_living15', 'sqft_lot15', 'year', 'month'],\n",
            "      dtype='object')\n"
          ]
        }
      ]
    },
    {
      "cell_type": "code",
      "source": [
        "# 타겟데이터에도 적용\n",
        "\n",
        "test['year'] = test['date'].apply(lambda i: i[:4]).astype(int)\n",
        "test['month'] = test['date'].apply(lambda i: i[4:6]).astype(int)\n",
        "\n",
        "del test['date']\n",
        "del test['id']\n",
        "\n",
        "test"
      ],
      "metadata": {
        "execution": {
          "iopub.status.busy": "2022-09-22T16:01:26.703305Z",
          "iopub.execute_input": "2022-09-22T16:01:26.704159Z",
          "iopub.status.idle": "2022-09-22T16:01:26.747049Z",
          "shell.execute_reply.started": "2022-09-22T16:01:26.704087Z",
          "shell.execute_reply": "2022-09-22T16:01:26.746106Z"
        },
        "trusted": true,
        "colab": {
          "base_uri": "https://localhost:8080/",
          "height": 488
        },
        "id": "UHjZF3m9DffL",
        "outputId": "fd1bbe6c-03e8-492a-8a1b-a24e2fa0f457"
      },
      "execution_count": 39,
      "outputs": [
        {
          "output_type": "execute_result",
          "data": {
            "text/plain": [
              "      bedrooms  bathrooms  sqft_living  sqft_lot  floors  waterfront  view  \\\n",
              "0            3       2.25         2570      7242     2.0           0     0   \n",
              "1            4       3.00         1960      5000     1.0           0     0   \n",
              "2            4       4.50         5420    101930     1.0           0     0   \n",
              "3            3       1.00         1780      7470     1.0           0     0   \n",
              "4            3       2.50         1890      6560     2.0           0     0   \n",
              "...        ...        ...          ...       ...     ...         ...   ...   \n",
              "6463         3       1.75         1500     11968     1.0           0     0   \n",
              "6464         3       2.00         1490      1126     3.0           0     0   \n",
              "6465         3       2.50         1310      1294     2.0           0     0   \n",
              "6466         2       0.75         1020      1350     2.0           0     0   \n",
              "6467         3       2.50         1600      2388     2.0           0     0   \n",
              "\n",
              "      condition  grade  sqft_above  sqft_basement  yr_built  yr_renovated  \\\n",
              "0             3      7        2170            400      1951          1991   \n",
              "1             5      7        1050            910      1965             0   \n",
              "2             3     11        3890           1530      2001             0   \n",
              "3             3      7        1050            730      1960             0   \n",
              "4             3      7        1890              0      2003             0   \n",
              "...         ...    ...         ...            ...       ...           ...   \n",
              "6463          3      6        1500              0      2014             0   \n",
              "6464          3      8        1490              0      2014             0   \n",
              "6465          3      8        1180            130      2008             0   \n",
              "6466          3      7        1020              0      2009             0   \n",
              "6467          3      8        1600              0      2004             0   \n",
              "\n",
              "      zipcode      lat     long  sqft_living15  sqft_lot15  year  month  \n",
              "0       98125  47.7210 -122.319           1690        7639  2014     12  \n",
              "1       98136  47.5208 -122.393           1360        5000  2014     12  \n",
              "2       98053  47.6561 -122.005           4760      101930  2014      5  \n",
              "3       98146  47.5123 -122.337           1780        8113  2015      4  \n",
              "4       98038  47.3684 -122.031           2390        7570  2015      3  \n",
              "...       ...      ...      ...            ...         ...   ...    ...  \n",
              "6463    98010  47.3095 -122.002           1320       11303  2014      6  \n",
              "6464    98144  47.5699 -122.288           1400        1230  2015      1  \n",
              "6465    98116  47.5773 -122.409           1330        1265  2015      2  \n",
              "6466    98144  47.5944 -122.299           1020        2007  2014      6  \n",
              "6467    98027  47.5345 -122.069           1410        1287  2015      1  \n",
              "\n",
              "[6468 rows x 20 columns]"
            ],
            "text/html": [
              "\n",
              "  <div id=\"df-7401d479-54c1-468e-8f97-cad89415c55c\">\n",
              "    <div class=\"colab-df-container\">\n",
              "      <div>\n",
              "<style scoped>\n",
              "    .dataframe tbody tr th:only-of-type {\n",
              "        vertical-align: middle;\n",
              "    }\n",
              "\n",
              "    .dataframe tbody tr th {\n",
              "        vertical-align: top;\n",
              "    }\n",
              "\n",
              "    .dataframe thead th {\n",
              "        text-align: right;\n",
              "    }\n",
              "</style>\n",
              "<table border=\"1\" class=\"dataframe\">\n",
              "  <thead>\n",
              "    <tr style=\"text-align: right;\">\n",
              "      <th></th>\n",
              "      <th>bedrooms</th>\n",
              "      <th>bathrooms</th>\n",
              "      <th>sqft_living</th>\n",
              "      <th>sqft_lot</th>\n",
              "      <th>floors</th>\n",
              "      <th>waterfront</th>\n",
              "      <th>view</th>\n",
              "      <th>condition</th>\n",
              "      <th>grade</th>\n",
              "      <th>sqft_above</th>\n",
              "      <th>sqft_basement</th>\n",
              "      <th>yr_built</th>\n",
              "      <th>yr_renovated</th>\n",
              "      <th>zipcode</th>\n",
              "      <th>lat</th>\n",
              "      <th>long</th>\n",
              "      <th>sqft_living15</th>\n",
              "      <th>sqft_lot15</th>\n",
              "      <th>year</th>\n",
              "      <th>month</th>\n",
              "    </tr>\n",
              "  </thead>\n",
              "  <tbody>\n",
              "    <tr>\n",
              "      <th>0</th>\n",
              "      <td>3</td>\n",
              "      <td>2.25</td>\n",
              "      <td>2570</td>\n",
              "      <td>7242</td>\n",
              "      <td>2.0</td>\n",
              "      <td>0</td>\n",
              "      <td>0</td>\n",
              "      <td>3</td>\n",
              "      <td>7</td>\n",
              "      <td>2170</td>\n",
              "      <td>400</td>\n",
              "      <td>1951</td>\n",
              "      <td>1991</td>\n",
              "      <td>98125</td>\n",
              "      <td>47.7210</td>\n",
              "      <td>-122.319</td>\n",
              "      <td>1690</td>\n",
              "      <td>7639</td>\n",
              "      <td>2014</td>\n",
              "      <td>12</td>\n",
              "    </tr>\n",
              "    <tr>\n",
              "      <th>1</th>\n",
              "      <td>4</td>\n",
              "      <td>3.00</td>\n",
              "      <td>1960</td>\n",
              "      <td>5000</td>\n",
              "      <td>1.0</td>\n",
              "      <td>0</td>\n",
              "      <td>0</td>\n",
              "      <td>5</td>\n",
              "      <td>7</td>\n",
              "      <td>1050</td>\n",
              "      <td>910</td>\n",
              "      <td>1965</td>\n",
              "      <td>0</td>\n",
              "      <td>98136</td>\n",
              "      <td>47.5208</td>\n",
              "      <td>-122.393</td>\n",
              "      <td>1360</td>\n",
              "      <td>5000</td>\n",
              "      <td>2014</td>\n",
              "      <td>12</td>\n",
              "    </tr>\n",
              "    <tr>\n",
              "      <th>2</th>\n",
              "      <td>4</td>\n",
              "      <td>4.50</td>\n",
              "      <td>5420</td>\n",
              "      <td>101930</td>\n",
              "      <td>1.0</td>\n",
              "      <td>0</td>\n",
              "      <td>0</td>\n",
              "      <td>3</td>\n",
              "      <td>11</td>\n",
              "      <td>3890</td>\n",
              "      <td>1530</td>\n",
              "      <td>2001</td>\n",
              "      <td>0</td>\n",
              "      <td>98053</td>\n",
              "      <td>47.6561</td>\n",
              "      <td>-122.005</td>\n",
              "      <td>4760</td>\n",
              "      <td>101930</td>\n",
              "      <td>2014</td>\n",
              "      <td>5</td>\n",
              "    </tr>\n",
              "    <tr>\n",
              "      <th>3</th>\n",
              "      <td>3</td>\n",
              "      <td>1.00</td>\n",
              "      <td>1780</td>\n",
              "      <td>7470</td>\n",
              "      <td>1.0</td>\n",
              "      <td>0</td>\n",
              "      <td>0</td>\n",
              "      <td>3</td>\n",
              "      <td>7</td>\n",
              "      <td>1050</td>\n",
              "      <td>730</td>\n",
              "      <td>1960</td>\n",
              "      <td>0</td>\n",
              "      <td>98146</td>\n",
              "      <td>47.5123</td>\n",
              "      <td>-122.337</td>\n",
              "      <td>1780</td>\n",
              "      <td>8113</td>\n",
              "      <td>2015</td>\n",
              "      <td>4</td>\n",
              "    </tr>\n",
              "    <tr>\n",
              "      <th>4</th>\n",
              "      <td>3</td>\n",
              "      <td>2.50</td>\n",
              "      <td>1890</td>\n",
              "      <td>6560</td>\n",
              "      <td>2.0</td>\n",
              "      <td>0</td>\n",
              "      <td>0</td>\n",
              "      <td>3</td>\n",
              "      <td>7</td>\n",
              "      <td>1890</td>\n",
              "      <td>0</td>\n",
              "      <td>2003</td>\n",
              "      <td>0</td>\n",
              "      <td>98038</td>\n",
              "      <td>47.3684</td>\n",
              "      <td>-122.031</td>\n",
              "      <td>2390</td>\n",
              "      <td>7570</td>\n",
              "      <td>2015</td>\n",
              "      <td>3</td>\n",
              "    </tr>\n",
              "    <tr>\n",
              "      <th>...</th>\n",
              "      <td>...</td>\n",
              "      <td>...</td>\n",
              "      <td>...</td>\n",
              "      <td>...</td>\n",
              "      <td>...</td>\n",
              "      <td>...</td>\n",
              "      <td>...</td>\n",
              "      <td>...</td>\n",
              "      <td>...</td>\n",
              "      <td>...</td>\n",
              "      <td>...</td>\n",
              "      <td>...</td>\n",
              "      <td>...</td>\n",
              "      <td>...</td>\n",
              "      <td>...</td>\n",
              "      <td>...</td>\n",
              "      <td>...</td>\n",
              "      <td>...</td>\n",
              "      <td>...</td>\n",
              "      <td>...</td>\n",
              "    </tr>\n",
              "    <tr>\n",
              "      <th>6463</th>\n",
              "      <td>3</td>\n",
              "      <td>1.75</td>\n",
              "      <td>1500</td>\n",
              "      <td>11968</td>\n",
              "      <td>1.0</td>\n",
              "      <td>0</td>\n",
              "      <td>0</td>\n",
              "      <td>3</td>\n",
              "      <td>6</td>\n",
              "      <td>1500</td>\n",
              "      <td>0</td>\n",
              "      <td>2014</td>\n",
              "      <td>0</td>\n",
              "      <td>98010</td>\n",
              "      <td>47.3095</td>\n",
              "      <td>-122.002</td>\n",
              "      <td>1320</td>\n",
              "      <td>11303</td>\n",
              "      <td>2014</td>\n",
              "      <td>6</td>\n",
              "    </tr>\n",
              "    <tr>\n",
              "      <th>6464</th>\n",
              "      <td>3</td>\n",
              "      <td>2.00</td>\n",
              "      <td>1490</td>\n",
              "      <td>1126</td>\n",
              "      <td>3.0</td>\n",
              "      <td>0</td>\n",
              "      <td>0</td>\n",
              "      <td>3</td>\n",
              "      <td>8</td>\n",
              "      <td>1490</td>\n",
              "      <td>0</td>\n",
              "      <td>2014</td>\n",
              "      <td>0</td>\n",
              "      <td>98144</td>\n",
              "      <td>47.5699</td>\n",
              "      <td>-122.288</td>\n",
              "      <td>1400</td>\n",
              "      <td>1230</td>\n",
              "      <td>2015</td>\n",
              "      <td>1</td>\n",
              "    </tr>\n",
              "    <tr>\n",
              "      <th>6465</th>\n",
              "      <td>3</td>\n",
              "      <td>2.50</td>\n",
              "      <td>1310</td>\n",
              "      <td>1294</td>\n",
              "      <td>2.0</td>\n",
              "      <td>0</td>\n",
              "      <td>0</td>\n",
              "      <td>3</td>\n",
              "      <td>8</td>\n",
              "      <td>1180</td>\n",
              "      <td>130</td>\n",
              "      <td>2008</td>\n",
              "      <td>0</td>\n",
              "      <td>98116</td>\n",
              "      <td>47.5773</td>\n",
              "      <td>-122.409</td>\n",
              "      <td>1330</td>\n",
              "      <td>1265</td>\n",
              "      <td>2015</td>\n",
              "      <td>2</td>\n",
              "    </tr>\n",
              "    <tr>\n",
              "      <th>6466</th>\n",
              "      <td>2</td>\n",
              "      <td>0.75</td>\n",
              "      <td>1020</td>\n",
              "      <td>1350</td>\n",
              "      <td>2.0</td>\n",
              "      <td>0</td>\n",
              "      <td>0</td>\n",
              "      <td>3</td>\n",
              "      <td>7</td>\n",
              "      <td>1020</td>\n",
              "      <td>0</td>\n",
              "      <td>2009</td>\n",
              "      <td>0</td>\n",
              "      <td>98144</td>\n",
              "      <td>47.5944</td>\n",
              "      <td>-122.299</td>\n",
              "      <td>1020</td>\n",
              "      <td>2007</td>\n",
              "      <td>2014</td>\n",
              "      <td>6</td>\n",
              "    </tr>\n",
              "    <tr>\n",
              "      <th>6467</th>\n",
              "      <td>3</td>\n",
              "      <td>2.50</td>\n",
              "      <td>1600</td>\n",
              "      <td>2388</td>\n",
              "      <td>2.0</td>\n",
              "      <td>0</td>\n",
              "      <td>0</td>\n",
              "      <td>3</td>\n",
              "      <td>8</td>\n",
              "      <td>1600</td>\n",
              "      <td>0</td>\n",
              "      <td>2004</td>\n",
              "      <td>0</td>\n",
              "      <td>98027</td>\n",
              "      <td>47.5345</td>\n",
              "      <td>-122.069</td>\n",
              "      <td>1410</td>\n",
              "      <td>1287</td>\n",
              "      <td>2015</td>\n",
              "      <td>1</td>\n",
              "    </tr>\n",
              "  </tbody>\n",
              "</table>\n",
              "<p>6468 rows × 20 columns</p>\n",
              "</div>\n",
              "      <button class=\"colab-df-convert\" onclick=\"convertToInteractive('df-7401d479-54c1-468e-8f97-cad89415c55c')\"\n",
              "              title=\"Convert this dataframe to an interactive table.\"\n",
              "              style=\"display:none;\">\n",
              "        \n",
              "  <svg xmlns=\"http://www.w3.org/2000/svg\" height=\"24px\"viewBox=\"0 0 24 24\"\n",
              "       width=\"24px\">\n",
              "    <path d=\"M0 0h24v24H0V0z\" fill=\"none\"/>\n",
              "    <path d=\"M18.56 5.44l.94 2.06.94-2.06 2.06-.94-2.06-.94-.94-2.06-.94 2.06-2.06.94zm-11 1L8.5 8.5l.94-2.06 2.06-.94-2.06-.94L8.5 2.5l-.94 2.06-2.06.94zm10 10l.94 2.06.94-2.06 2.06-.94-2.06-.94-.94-2.06-.94 2.06-2.06.94z\"/><path d=\"M17.41 7.96l-1.37-1.37c-.4-.4-.92-.59-1.43-.59-.52 0-1.04.2-1.43.59L10.3 9.45l-7.72 7.72c-.78.78-.78 2.05 0 2.83L4 21.41c.39.39.9.59 1.41.59.51 0 1.02-.2 1.41-.59l7.78-7.78 2.81-2.81c.8-.78.8-2.07 0-2.86zM5.41 20L4 18.59l7.72-7.72 1.47 1.35L5.41 20z\"/>\n",
              "  </svg>\n",
              "      </button>\n",
              "      \n",
              "  <style>\n",
              "    .colab-df-container {\n",
              "      display:flex;\n",
              "      flex-wrap:wrap;\n",
              "      gap: 12px;\n",
              "    }\n",
              "\n",
              "    .colab-df-convert {\n",
              "      background-color: #E8F0FE;\n",
              "      border: none;\n",
              "      border-radius: 50%;\n",
              "      cursor: pointer;\n",
              "      display: none;\n",
              "      fill: #1967D2;\n",
              "      height: 32px;\n",
              "      padding: 0 0 0 0;\n",
              "      width: 32px;\n",
              "    }\n",
              "\n",
              "    .colab-df-convert:hover {\n",
              "      background-color: #E2EBFA;\n",
              "      box-shadow: 0px 1px 2px rgba(60, 64, 67, 0.3), 0px 1px 3px 1px rgba(60, 64, 67, 0.15);\n",
              "      fill: #174EA6;\n",
              "    }\n",
              "\n",
              "    [theme=dark] .colab-df-convert {\n",
              "      background-color: #3B4455;\n",
              "      fill: #D2E3FC;\n",
              "    }\n",
              "\n",
              "    [theme=dark] .colab-df-convert:hover {\n",
              "      background-color: #434B5C;\n",
              "      box-shadow: 0px 1px 3px 1px rgba(0, 0, 0, 0.15);\n",
              "      filter: drop-shadow(0px 1px 2px rgba(0, 0, 0, 0.3));\n",
              "      fill: #FFFFFF;\n",
              "    }\n",
              "  </style>\n",
              "\n",
              "      <script>\n",
              "        const buttonEl =\n",
              "          document.querySelector('#df-7401d479-54c1-468e-8f97-cad89415c55c button.colab-df-convert');\n",
              "        buttonEl.style.display =\n",
              "          google.colab.kernel.accessAllowed ? 'block' : 'none';\n",
              "\n",
              "        async function convertToInteractive(key) {\n",
              "          const element = document.querySelector('#df-7401d479-54c1-468e-8f97-cad89415c55c');\n",
              "          const dataTable =\n",
              "            await google.colab.kernel.invokeFunction('convertToInteractive',\n",
              "                                                     [key], {});\n",
              "          if (!dataTable) return;\n",
              "\n",
              "          const docLinkHtml = 'Like what you see? Visit the ' +\n",
              "            '<a target=\"_blank\" href=https://colab.research.google.com/notebooks/data_table.ipynb>data table notebook</a>'\n",
              "            + ' to learn more about interactive tables.';\n",
              "          element.innerHTML = '';\n",
              "          dataTable['output_type'] = 'display_data';\n",
              "          await google.colab.output.renderOutput(dataTable, element);\n",
              "          const docLink = document.createElement('div');\n",
              "          docLink.innerHTML = docLinkHtml;\n",
              "          element.appendChild(docLink);\n",
              "        }\n",
              "      </script>\n",
              "    </div>\n",
              "  </div>\n",
              "  "
            ]
          },
          "metadata": {},
          "execution_count": 39
        }
      ]
    },
    {
      "cell_type": "code",
      "source": [
        "y"
      ],
      "metadata": {
        "execution": {
          "iopub.status.busy": "2022-09-22T16:01:26.748144Z",
          "iopub.execute_input": "2022-09-22T16:01:26.748984Z",
          "iopub.status.idle": "2022-09-22T16:01:26.759038Z",
          "shell.execute_reply.started": "2022-09-22T16:01:26.748949Z",
          "shell.execute_reply": "2022-09-22T16:01:26.757422Z"
        },
        "trusted": true,
        "colab": {
          "base_uri": "https://localhost:8080/"
        },
        "id": "h7pb8rTdDffL",
        "outputId": "3490449f-98b2-4ca2-ef79-bbf5c5b0ef0f"
      },
      "execution_count": 40,
      "outputs": [
        {
          "output_type": "execute_result",
          "data": {
            "text/plain": [
              "0         221900.0\n",
              "1         180000.0\n",
              "2         510000.0\n",
              "3         257500.0\n",
              "4         291850.0\n",
              "           ...    \n",
              "15030     610685.0\n",
              "15031    1007500.0\n",
              "15032     360000.0\n",
              "15033     400000.0\n",
              "15034     325000.0\n",
              "Name: price, Length: 15035, dtype: float64"
            ]
          },
          "metadata": {},
          "execution_count": 40
        }
      ]
    },
    {
      "cell_type": "code",
      "source": [
        "sns.kdeplot(y)\n",
        "plt.show()"
      ],
      "metadata": {
        "execution": {
          "iopub.status.busy": "2022-09-22T16:01:26.760990Z",
          "iopub.execute_input": "2022-09-22T16:01:26.762188Z",
          "iopub.status.idle": "2022-09-22T16:01:27.099278Z",
          "shell.execute_reply.started": "2022-09-22T16:01:26.762100Z",
          "shell.execute_reply": "2022-09-22T16:01:27.097898Z"
        },
        "trusted": true,
        "colab": {
          "base_uri": "https://localhost:8080/",
          "height": 289
        },
        "id": "pTul-T36DffM",
        "outputId": "d5012fa5-d22b-45bc-98fd-e43ea72d6693"
      },
      "execution_count": 41,
      "outputs": [
        {
          "output_type": "display_data",
          "data": {
            "text/plain": [
              "<Figure size 432x288 with 1 Axes>"
            ],
            "image/png": "[encoded data removed]"
          },
          "metadata": {
            "image/png": {
              "width": 392,
              "height": 272
            },
            "needs_background": "light"
          }
        }
      ]
    },
    {
      "cell_type": "code",
      "source": [
        "# 너무 한 쪽에 치우쳐져 있으므로 로그변환\n",
        "# 로그변환/나중에 np.expm1() 으로 복구\n",
        "\n",
        "y = np.log1p(y)\n",
        "y"
      ],
      "metadata": {
        "execution": {
          "iopub.status.busy": "2022-09-22T16:01:27.103366Z",
          "iopub.execute_input": "2022-09-22T16:01:27.103868Z",
          "iopub.status.idle": "2022-09-22T16:01:27.117673Z",
          "shell.execute_reply.started": "2022-09-22T16:01:27.103817Z",
          "shell.execute_reply": "2022-09-22T16:01:27.116368Z"
        },
        "trusted": true,
        "colab": {
          "base_uri": "https://localhost:8080/"
        },
        "id": "kVc6j2jrDffM",
        "outputId": "f3478449-5ff5-40df-d6d4-b1eb7db5a7e4"
      },
      "execution_count": 42,
      "outputs": [
        {
          "output_type": "execute_result",
          "data": {
            "text/plain": [
              "0        12.309987\n",
              "1        12.100718\n",
              "2        13.142168\n",
              "3        12.458779\n",
              "4        12.583999\n",
              "           ...    \n",
              "15030    13.322338\n",
              "15031    13.822984\n",
              "15032    12.793862\n",
              "15033    12.899222\n",
              "15034    12.691584\n",
              "Name: price, Length: 15035, dtype: float64"
            ]
          },
          "metadata": {},
          "execution_count": 42
        }
      ]
    },
    {
      "cell_type": "markdown",
      "source": [
        "이곳에서 로그변환을 통해 값을 퍼뜨리는 작업을 하는데 이후 다시 복구하는 것을 잊어선 안 된다."
      ],
      "metadata": {
        "id": "vPQaUoyCDEe1"
      }
    },
    {
      "cell_type": "code",
      "source": [
        "sns.kdeplot(y)\n",
        "plt.show()"
      ],
      "metadata": {
        "execution": {
          "iopub.status.busy": "2022-09-22T16:01:27.122715Z",
          "iopub.execute_input": "2022-09-22T16:01:27.123664Z",
          "iopub.status.idle": "2022-09-22T16:01:27.537029Z",
          "shell.execute_reply.started": "2022-09-22T16:01:27.123606Z",
          "shell.execute_reply": "2022-09-22T16:01:27.536075Z"
        },
        "trusted": true,
        "colab": {
          "base_uri": "https://localhost:8080/",
          "height": 279
        },
        "id": "MTKYfrnfDffN",
        "outputId": "c9fabf06-7137-40f5-cd31-3cec041eba0a"
      },
      "execution_count": 43,
      "outputs": [
        {
          "output_type": "display_data",
          "data": {
            "text/plain": [
              "<Figure size 432x288 with 1 Axes>"
            ],
            "image/png": "[encoded data removed]"
          },
          "metadata": {
            "image/png": {
              "width": 385,
              "height": 262
            },
            "needs_background": "light"
          }
        }
      ]
    },
    {
      "cell_type": "code",
      "source": [
        "train.info() # 모든 데이터가 실수,정수이므로 모델에 사용 가능"
      ],
      "metadata": {
        "execution": {
          "iopub.status.busy": "2022-09-22T16:01:27.538540Z",
          "iopub.execute_input": "2022-09-22T16:01:27.539192Z",
          "iopub.status.idle": "2022-09-22T16:01:27.556882Z",
          "shell.execute_reply.started": "2022-09-22T16:01:27.539147Z",
          "shell.execute_reply": "2022-09-22T16:01:27.555699Z"
        },
        "trusted": true,
        "colab": {
          "base_uri": "https://localhost:8080/"
        },
        "id": "PeFjo4tLDffN",
        "outputId": "05a95d59-1ec0-43b4-b0ce-90e5edefef59"
      },
      "execution_count": 44,
      "outputs": [
        {
          "output_type": "stream",
          "name": "stdout",
          "text": [
            "<class 'pandas.core.frame.DataFrame'>\n",
            "RangeIndex: 15035 entries, 0 to 15034\n",
            "Data columns (total 20 columns):\n",
            " #   Column         Non-Null Count  Dtype  \n",
            "---  ------         --------------  -----  \n",
            " 0   bedrooms       15035 non-null  int64  \n",
            " 1   bathrooms      15035 non-null  float64\n",
            " 2   sqft_living    15035 non-null  int64  \n",
            " 3   sqft_lot       15035 non-null  int64  \n",
            " 4   floors         15035 non-null  float64\n",
            " 5   waterfront     15035 non-null  int64  \n",
            " 6   view           15035 non-null  int64  \n",
            " 7   condition      15035 non-null  int64  \n",
            " 8   grade          15035 non-null  int64  \n",
            " 9   sqft_above     15035 non-null  int64  \n",
            " 10  sqft_basement  15035 non-null  int64  \n",
            " 11  yr_built       15035 non-null  int64  \n",
            " 12  yr_renovated   15035 non-null  int64  \n",
            " 13  zipcode        15035 non-null  int64  \n",
            " 14  lat            15035 non-null  float64\n",
            " 15  long           15035 non-null  float64\n",
            " 16  sqft_living15  15035 non-null  int64  \n",
            " 17  sqft_lot15     15035 non-null  int64  \n",
            " 18  year           15035 non-null  int64  \n",
            " 19  month          15035 non-null  int64  \n",
            "dtypes: float64(4), int64(16)\n",
            "memory usage: 2.3 MB\n"
          ]
        }
      ]
    },
    {
      "cell_type": "code",
      "source": [
        "# 필요한 함수 생성\n",
        "# 오차를 구할 함수 2개\n",
        "\n",
        "from sklearn.model_selection import train_test_split\n",
        "from sklearn.metrics import mean_squared_error\n",
        "\n",
        "# np.log1p 를 썼으므로 expm1 사용\n",
        "\n",
        "def rmse(y_test, y_pred):\n",
        "    return np.sqrt(mean_squared_error(np.expm1(y_test), np.expm1(y_pred)))\n",
        "\n",
        "# 4개 모델 임포팅\n",
        "\n",
        "from xgboost import XGBRegressor\n",
        "from lightgbm import LGBMRegressor\n",
        "from sklearn.ensemble import GradientBoostingRegressor, RandomForestRegressor"
      ],
      "metadata": {
        "execution": {
          "iopub.status.busy": "2022-09-22T16:01:27.558355Z",
          "iopub.execute_input": "2022-09-22T16:01:27.558709Z",
          "iopub.status.idle": "2022-09-22T16:01:27.566378Z",
          "shell.execute_reply.started": "2022-09-22T16:01:27.558676Z",
          "shell.execute_reply": "2022-09-22T16:01:27.565105Z"
        },
        "trusted": true,
        "id": "CN6WIPxkDffO"
      },
      "execution_count": 45,
      "outputs": []
    },
    {
      "cell_type": "code",
      "source": [
        "random_state=2020 # 랜덤스테이트 설정\n",
        "gboost = GradientBoostingRegressor(random_state=random_state)\n",
        "xgboost = XGBRegressor(random_state=random_state)\n",
        "lightgbm = LGBMRegressor(random_state=random_state)\n",
        "rdforest = RandomForestRegressor(random_state=random_state)\n",
        "\n",
        "models = [gboost, xgboost, lightgbm, rdforest]"
      ],
      "metadata": {
        "execution": {
          "iopub.status.busy": "2022-09-22T16:01:27.567996Z",
          "iopub.execute_input": "2022-09-22T16:01:27.568763Z",
          "iopub.status.idle": "2022-09-22T16:01:27.578641Z",
          "shell.execute_reply.started": "2022-09-22T16:01:27.568713Z",
          "shell.execute_reply": "2022-09-22T16:01:27.577062Z"
        },
        "trusted": true,
        "id": "9IrsB310DffO"
      },
      "execution_count": 46,
      "outputs": []
    },
    {
      "cell_type": "code",
      "source": [
        "def get_scores(models, train, y):\n",
        "    df = {}\n",
        "    \n",
        "    for model in models:\n",
        "        model_name = model.__class__.__name__\n",
        "        \n",
        "        X_train, X_test, y_train, y_test = train_test_split(train, y, random_state=random_state, test_size=0.2)\n",
        "        model.fit(X_train, y_train)\n",
        "        y_pred = model.predict(X_test)\n",
        "        \n",
        "        df[model_name] = rmse(y_test, y_pred)\n",
        "        score_df = pd.DataFrame(df, index=['RMSE']).T.sort_values('RMSE', ascending=False)\n",
        "            \n",
        "    return score_df\n",
        "\n",
        "get_scores(models, train, y)"
      ],
      "metadata": {
        "execution": {
          "iopub.status.busy": "2022-09-22T16:01:27.581182Z",
          "iopub.execute_input": "2022-09-22T16:01:27.581651Z",
          "iopub.status.idle": "2022-09-22T16:01:42.915615Z",
          "shell.execute_reply.started": "2022-09-22T16:01:27.581603Z",
          "shell.execute_reply": "2022-09-22T16:01:42.914185Z"
        },
        "trusted": true,
        "colab": {
          "base_uri": "https://localhost:8080/",
          "height": 192
        },
        "id": "RmEOuA0IDffP",
        "outputId": "5622d4bb-b181-4174-cf86-c0cdc1cc2cc2"
      },
      "execution_count": 47,
      "outputs": [
        {
          "output_type": "stream",
          "name": "stdout",
          "text": [
            "[05:12:58] WARNING: /workspace/src/objective/regression_obj.cu:152: reg:linear is now deprecated in favor of reg:squarederror.\n"
          ]
        },
        {
          "output_type": "execute_result",
          "data": {
            "text/plain": [
              "                                    RMSE\n",
              "XGBRegressor               130473.506835\n",
              "GradientBoostingRegressor  129856.419070\n",
              "RandomForestRegressor      125536.800803\n",
              "LGBMRegressor              112049.198779"
            ],
            "text/html": [
              "\n",
              "  <div id=\"df-2c3a0a9a-5516-4d7f-90b2-9b131c5168ca\">\n",
              "    <div class=\"colab-df-container\">\n",
              "      <div>\n",
              "<style scoped>\n",
              "    .dataframe tbody tr th:only-of-type {\n",
              "        vertical-align: middle;\n",
              "    }\n",
              "\n",
              "    .dataframe tbody tr th {\n",
              "        vertical-align: top;\n",
              "    }\n",
              "\n",
              "    .dataframe thead th {\n",
              "        text-align: right;\n",
              "    }\n",
              "</style>\n",
              "<table border=\"1\" class=\"dataframe\">\n",
              "  <thead>\n",
              "    <tr style=\"text-align: right;\">\n",
              "      <th></th>\n",
              "      <th>RMSE</th>\n",
              "    </tr>\n",
              "  </thead>\n",
              "  <tbody>\n",
              "    <tr>\n",
              "      <th>XGBRegressor</th>\n",
              "      <td>130473.506835</td>\n",
              "    </tr>\n",
              "    <tr>\n",
              "      <th>GradientBoostingRegressor</th>\n",
              "      <td>129856.419070</td>\n",
              "    </tr>\n",
              "    <tr>\n",
              "      <th>RandomForestRegressor</th>\n",
              "      <td>125536.800803</td>\n",
              "    </tr>\n",
              "    <tr>\n",
              "      <th>LGBMRegressor</th>\n",
              "      <td>112049.198779</td>\n",
              "    </tr>\n",
              "  </tbody>\n",
              "</table>\n",
              "</div>\n",
              "      <button class=\"colab-df-convert\" onclick=\"convertToInteractive('df-2c3a0a9a-5516-4d7f-90b2-9b131c5168ca')\"\n",
              "              title=\"Convert this dataframe to an interactive table.\"\n",
              "              style=\"display:none;\">\n",
              "        \n",
              "  <svg xmlns=\"http://www.w3.org/2000/svg\" height=\"24px\"viewBox=\"0 0 24 24\"\n",
              "       width=\"24px\">\n",
              "    <path d=\"M0 0h24v24H0V0z\" fill=\"none\"/>\n",
              "    <path d=\"M18.56 5.44l.94 2.06.94-2.06 2.06-.94-2.06-.94-.94-2.06-.94 2.06-2.06.94zm-11 1L8.5 8.5l.94-2.06 2.06-.94-2.06-.94L8.5 2.5l-.94 2.06-2.06.94zm10 10l.94 2.06.94-2.06 2.06-.94-2.06-.94-.94-2.06-.94 2.06-2.06.94z\"/><path d=\"M17.41 7.96l-1.37-1.37c-.4-.4-.92-.59-1.43-.59-.52 0-1.04.2-1.43.59L10.3 9.45l-7.72 7.72c-.78.78-.78 2.05 0 2.83L4 21.41c.39.39.9.59 1.41.59.51 0 1.02-.2 1.41-.59l7.78-7.78 2.81-2.81c.8-.78.8-2.07 0-2.86zM5.41 20L4 18.59l7.72-7.72 1.47 1.35L5.41 20z\"/>\n",
              "  </svg>\n",
              "      </button>\n",
              "      \n",
              "  <style>\n",
              "    .colab-df-container {\n",
              "      display:flex;\n",
              "      flex-wrap:wrap;\n",
              "      gap: 12px;\n",
              "    }\n",
              "\n",
              "    .colab-df-convert {\n",
              "      background-color: #E8F0FE;\n",
              "      border: none;\n",
              "      border-radius: 50%;\n",
              "      cursor: pointer;\n",
              "      display: none;\n",
              "      fill: #1967D2;\n",
              "      height: 32px;\n",
              "      padding: 0 0 0 0;\n",
              "      width: 32px;\n",
              "    }\n",
              "\n",
              "    .colab-df-convert:hover {\n",
              "      background-color: #E2EBFA;\n",
              "      box-shadow: 0px 1px 2px rgba(60, 64, 67, 0.3), 0px 1px 3px 1px rgba(60, 64, 67, 0.15);\n",
              "      fill: #174EA6;\n",
              "    }\n",
              "\n",
              "    [theme=dark] .colab-df-convert {\n",
              "      background-color: #3B4455;\n",
              "      fill: #D2E3FC;\n",
              "    }\n",
              "\n",
              "    [theme=dark] .colab-df-convert:hover {\n",
              "      background-color: #434B5C;\n",
              "      box-shadow: 0px 1px 3px 1px rgba(0, 0, 0, 0.15);\n",
              "      filter: drop-shadow(0px 1px 2px rgba(0, 0, 0, 0.3));\n",
              "      fill: #FFFFFF;\n",
              "    }\n",
              "  </style>\n",
              "\n",
              "      <script>\n",
              "        const buttonEl =\n",
              "          document.querySelector('#df-2c3a0a9a-5516-4d7f-90b2-9b131c5168ca button.colab-df-convert');\n",
              "        buttonEl.style.display =\n",
              "          google.colab.kernel.accessAllowed ? 'block' : 'none';\n",
              "\n",
              "        async function convertToInteractive(key) {\n",
              "          const element = document.querySelector('#df-2c3a0a9a-5516-4d7f-90b2-9b131c5168ca');\n",
              "          const dataTable =\n",
              "            await google.colab.kernel.invokeFunction('convertToInteractive',\n",
              "                                                     [key], {});\n",
              "          if (!dataTable) return;\n",
              "\n",
              "          const docLinkHtml = 'Like what you see? Visit the ' +\n",
              "            '<a target=\"_blank\" href=https://colab.research.google.com/notebooks/data_table.ipynb>data table notebook</a>'\n",
              "            + ' to learn more about interactive tables.';\n",
              "          element.innerHTML = '';\n",
              "          dataTable['output_type'] = 'display_data';\n",
              "          await google.colab.output.renderOutput(dataTable, element);\n",
              "          const docLink = document.createElement('div');\n",
              "          docLink.innerHTML = docLinkHtml;\n",
              "          element.appendChild(docLink);\n",
              "        }\n",
              "      </script>\n",
              "    </div>\n",
              "  </div>\n",
              "  "
            ]
          },
          "metadata": {},
          "execution_count": 47
        }
      ]
    },
    {
      "cell_type": "markdown",
      "source": [
        "비교해본 결과 4개의 모델 중 LGBMRegressor가 가장 성능이 좋다는 사실을 알 수 있었다.  \n",
        "따라서 이 모델을 가지고 학습 및 테스트를 진행한다."
      ],
      "metadata": {
        "id": "DAnZOJF9O-hl"
      }
    },
    {
      "cell_type": "markdown",
      "source": [
        "# 하이퍼 파라미터 조정"
      ],
      "metadata": {
        "id": "u7NdhL3OOjPF"
      }
    },
    {
      "cell_type": "code",
      "source": [
        "# 하이퍼 파라미터 튜닝하기\n",
        "# 그리드 탐색\n",
        "\n",
        "from sklearn.model_selection import GridSearchCV"
      ],
      "metadata": {
        "execution": {
          "iopub.status.busy": "2022-09-22T16:01:42.917248Z",
          "iopub.execute_input": "2022-09-22T16:01:42.917817Z",
          "iopub.status.idle": "2022-09-22T16:01:42.924250Z",
          "shell.execute_reply.started": "2022-09-22T16:01:42.917778Z",
          "shell.execute_reply": "2022-09-22T16:01:42.922178Z"
        },
        "trusted": true,
        "id": "_O21YHaUDffP"
      },
      "execution_count": 48,
      "outputs": []
    },
    {
      "cell_type": "code",
      "source": [
        "# 하이퍼 파라미터1\n",
        "\n",
        "param_grid = {\n",
        "    'n_estimators': [50, 100],\n",
        "    'max_depth': [1, 10],\n",
        "}"
      ],
      "metadata": {
        "execution": {
          "iopub.status.busy": "2022-09-22T16:01:42.926042Z",
          "iopub.execute_input": "2022-09-22T16:01:42.926732Z",
          "iopub.status.idle": "2022-09-22T16:01:42.940840Z",
          "shell.execute_reply.started": "2022-09-22T16:01:42.926687Z",
          "shell.execute_reply": "2022-09-22T16:01:42.939432Z"
        },
        "trusted": true,
        "id": "rXWmN_90DffP"
      },
      "execution_count": 49,
      "outputs": []
    },
    {
      "cell_type": "code",
      "source": [
        "model = LGBMRegressor(random_state=random_state)"
      ],
      "metadata": {
        "execution": {
          "iopub.status.busy": "2022-09-22T16:01:42.942781Z",
          "iopub.execute_input": "2022-09-22T16:01:42.943324Z",
          "iopub.status.idle": "2022-09-22T16:01:42.953679Z",
          "shell.execute_reply.started": "2022-09-22T16:01:42.943273Z",
          "shell.execute_reply": "2022-09-22T16:01:42.952345Z"
        },
        "trusted": true,
        "id": "HIUXHMQjDffQ"
      },
      "execution_count": 50,
      "outputs": []
    },
    {
      "cell_type": "code",
      "source": [
        "grid_model = GridSearchCV(model, param_grid=param_grid, \\\n",
        "                        scoring='neg_mean_squared_error', \\\n",
        "                        cv=5, verbose=1, n_jobs=5)\n",
        "\n",
        "grid_model.fit(train, y)"
      ],
      "metadata": {
        "execution": {
          "iopub.status.busy": "2022-09-22T16:01:42.955578Z",
          "iopub.execute_input": "2022-09-22T16:01:42.956162Z",
          "iopub.status.idle": "2022-09-22T16:01:48.929813Z",
          "shell.execute_reply.started": "2022-09-22T16:01:42.956098Z",
          "shell.execute_reply": "2022-09-22T16:01:48.928647Z"
        },
        "trusted": true,
        "colab": {
          "base_uri": "https://localhost:8080/"
        },
        "id": "S_Izuk7wDffQ",
        "outputId": "f2134141-579c-46b5-a823-009e97facac0"
      },
      "execution_count": 51,
      "outputs": [
        {
          "output_type": "stream",
          "name": "stdout",
          "text": [
            "Fitting 5 folds for each of 4 candidates, totalling 20 fits\n"
          ]
        },
        {
          "output_type": "execute_result",
          "data": {
            "text/plain": [
              "GridSearchCV(cv=5, estimator=LGBMRegressor(random_state=2020), n_jobs=5,\n",
              "             param_grid={'max_depth': [1, 10], 'n_estimators': [50, 100]},\n",
              "             scoring='neg_mean_squared_error', verbose=1)"
            ]
          },
          "metadata": {},
          "execution_count": 51
        }
      ]
    },
    {
      "cell_type": "code",
      "source": [
        "grid_model.cv_results_\n",
        "\n",
        "# 데이터가 너무 많으므로 원하는 값만 보자.\n",
        "# 파라미터 조합은 params 에, 각 테스트 점수는 mean_test_score 에 저장되어있음"
      ],
      "metadata": {
        "execution": {
          "iopub.status.busy": "2022-09-22T16:01:48.934321Z",
          "iopub.execute_input": "2022-09-22T16:01:48.935220Z",
          "iopub.status.idle": "2022-09-22T16:01:48.948160Z",
          "shell.execute_reply.started": "2022-09-22T16:01:48.935173Z",
          "shell.execute_reply": "2022-09-22T16:01:48.947035Z"
        },
        "trusted": true,
        "colab": {
          "base_uri": "https://localhost:8080/"
        },
        "id": "VQqfH35dDffQ",
        "outputId": "bed8759d-de10-4474-a540-adaee03df1a6"
      },
      "execution_count": 52,
      "outputs": [
        {
          "output_type": "execute_result",
          "data": {
            "text/plain": [
              "{'mean_fit_time': array([0.29843855, 0.45694652, 1.02780309, 1.61997356]),\n",
              " 'std_fit_time': array([0.03659735, 0.06647633, 0.0513514 , 0.04004031]),\n",
              " 'mean_score_time': array([0.02958832, 0.03550186, 0.06168361, 0.05412064]),\n",
              " 'std_score_time': array([0.00355567, 0.01404527, 0.02649721, 0.02229466]),\n",
              " 'param_max_depth': masked_array(data=[1, 1, 10, 10],\n",
              "              mask=[False, False, False, False],\n",
              "        fill_value='?',\n",
              "             dtype=object),\n",
              " 'param_n_estimators': masked_array(data=[50, 100, 50, 100],\n",
              "              mask=[False, False, False, False],\n",
              "        fill_value='?',\n",
              "             dtype=object),\n",
              " 'params': [{'max_depth': 1, 'n_estimators': 50},\n",
              "  {'max_depth': 1, 'n_estimators': 100},\n",
              "  {'max_depth': 10, 'n_estimators': 50},\n",
              "  {'max_depth': 10, 'n_estimators': 100}],\n",
              " 'split0_test_score': array([-0.0756974 , -0.05555652, -0.02900282, -0.02684007]),\n",
              " 'split1_test_score': array([-0.07666447, -0.057876  , -0.0304264 , -0.02801938]),\n",
              " 'split2_test_score': array([-0.07354904, -0.05546079, -0.03088813, -0.02875611]),\n",
              " 'split3_test_score': array([-0.07510863, -0.05582109, -0.03019715, -0.02763803]),\n",
              " 'split4_test_score': array([-0.06595281, -0.05038773, -0.02650559, -0.0246161 ]),\n",
              " 'mean_test_score': array([-0.07339447, -0.05502043, -0.02940402, -0.02717394]),\n",
              " 'std_test_score': array([0.00385583, 0.00247946, 0.00157726, 0.00142038]),\n",
              " 'rank_test_score': array([4, 3, 2, 1], dtype=int32)}"
            ]
          },
          "metadata": {},
          "execution_count": 52
        }
      ]
    },
    {
      "cell_type": "code",
      "source": [
        "params = grid_model.cv_results_['params']\n",
        "params"
      ],
      "metadata": {
        "execution": {
          "iopub.status.busy": "2022-09-22T16:01:48.949835Z",
          "iopub.execute_input": "2022-09-22T16:01:48.950216Z",
          "iopub.status.idle": "2022-09-22T16:01:48.961268Z",
          "shell.execute_reply.started": "2022-09-22T16:01:48.950182Z",
          "shell.execute_reply": "2022-09-22T16:01:48.960189Z"
        },
        "trusted": true,
        "colab": {
          "base_uri": "https://localhost:8080/"
        },
        "id": "fDmW1GHADffR",
        "outputId": "e645bce8-74a5-4f3b-d5f7-5301f54ef2a8"
      },
      "execution_count": 53,
      "outputs": [
        {
          "output_type": "execute_result",
          "data": {
            "text/plain": [
              "[{'max_depth': 1, 'n_estimators': 50},\n",
              " {'max_depth': 1, 'n_estimators': 100},\n",
              " {'max_depth': 10, 'n_estimators': 50},\n",
              " {'max_depth': 10, 'n_estimators': 100}]"
            ]
          },
          "metadata": {},
          "execution_count": 53
        }
      ]
    },
    {
      "cell_type": "code",
      "source": [
        "score = grid_model.cv_results_['mean_test_score']\n",
        "score"
      ],
      "metadata": {
        "execution": {
          "iopub.status.busy": "2022-09-22T16:01:48.963287Z",
          "iopub.execute_input": "2022-09-22T16:01:48.963678Z",
          "iopub.status.idle": "2022-09-22T16:01:48.974777Z",
          "shell.execute_reply.started": "2022-09-22T16:01:48.963642Z",
          "shell.execute_reply": "2022-09-22T16:01:48.973739Z"
        },
        "trusted": true,
        "colab": {
          "base_uri": "https://localhost:8080/"
        },
        "id": "segQpExaDffR",
        "outputId": "3f6717d5-d429-4bb0-9211-d088db45643f"
      },
      "execution_count": 54,
      "outputs": [
        {
          "output_type": "execute_result",
          "data": {
            "text/plain": [
              "array([-0.07339447, -0.05502043, -0.02940402, -0.02717394])"
            ]
          },
          "metadata": {},
          "execution_count": 54
        }
      ]
    },
    {
      "cell_type": "code",
      "source": [
        "# 위 두 결과를 합쳐서 데이터 프레임으로 만듦\n",
        "\n",
        "results = pd.DataFrame(params)\n",
        "results['score'] = score\n",
        "\n",
        "results"
      ],
      "metadata": {
        "execution": {
          "iopub.status.busy": "2022-09-22T16:01:48.976447Z",
          "iopub.execute_input": "2022-09-22T16:01:48.976796Z",
          "iopub.status.idle": "2022-09-22T16:01:48.993544Z",
          "shell.execute_reply.started": "2022-09-22T16:01:48.976766Z",
          "shell.execute_reply": "2022-09-22T16:01:48.991623Z"
        },
        "trusted": true,
        "colab": {
          "base_uri": "https://localhost:8080/",
          "height": 175
        },
        "id": "Bq5Um5mJDffR",
        "outputId": "f4f85139-f8cc-43f7-daca-5a0a73b797a0"
      },
      "execution_count": 55,
      "outputs": [
        {
          "output_type": "execute_result",
          "data": {
            "text/plain": [
              "   max_depth  n_estimators     score\n",
              "0          1            50 -0.073394\n",
              "1          1           100 -0.055020\n",
              "2         10            50 -0.029404\n",
              "3         10           100 -0.027174"
            ],
            "text/html": [
              "\n",
              "  <div id=\"df-b7e1b247-beb7-4068-85df-1d0cf0bf1c6e\">\n",
              "    <div class=\"colab-df-container\">\n",
              "      <div>\n",
              "<style scoped>\n",
              "    .dataframe tbody tr th:only-of-type {\n",
              "        vertical-align: middle;\n",
              "    }\n",
              "\n",
              "    .dataframe tbody tr th {\n",
              "        vertical-align: top;\n",
              "    }\n",
              "\n",
              "    .dataframe thead th {\n",
              "        text-align: right;\n",
              "    }\n",
              "</style>\n",
              "<table border=\"1\" class=\"dataframe\">\n",
              "  <thead>\n",
              "    <tr style=\"text-align: right;\">\n",
              "      <th></th>\n",
              "      <th>max_depth</th>\n",
              "      <th>n_estimators</th>\n",
              "      <th>score</th>\n",
              "    </tr>\n",
              "  </thead>\n",
              "  <tbody>\n",
              "    <tr>\n",
              "      <th>0</th>\n",
              "      <td>1</td>\n",
              "      <td>50</td>\n",
              "      <td>-0.073394</td>\n",
              "    </tr>\n",
              "    <tr>\n",
              "      <th>1</th>\n",
              "      <td>1</td>\n",
              "      <td>100</td>\n",
              "      <td>-0.055020</td>\n",
              "    </tr>\n",
              "    <tr>\n",
              "      <th>2</th>\n",
              "      <td>10</td>\n",
              "      <td>50</td>\n",
              "      <td>-0.029404</td>\n",
              "    </tr>\n",
              "    <tr>\n",
              "      <th>3</th>\n",
              "      <td>10</td>\n",
              "      <td>100</td>\n",
              "      <td>-0.027174</td>\n",
              "    </tr>\n",
              "  </tbody>\n",
              "</table>\n",
              "</div>\n",
              "      <button class=\"colab-df-convert\" onclick=\"convertToInteractive('df-b7e1b247-beb7-4068-85df-1d0cf0bf1c6e')\"\n",
              "              title=\"Convert this dataframe to an interactive table.\"\n",
              "              style=\"display:none;\">\n",
              "        \n",
              "  <svg xmlns=\"http://www.w3.org/2000/svg\" height=\"24px\"viewBox=\"0 0 24 24\"\n",
              "       width=\"24px\">\n",
              "    <path d=\"M0 0h24v24H0V0z\" fill=\"none\"/>\n",
              "    <path d=\"M18.56 5.44l.94 2.06.94-2.06 2.06-.94-2.06-.94-.94-2.06-.94 2.06-2.06.94zm-11 1L8.5 8.5l.94-2.06 2.06-.94-2.06-.94L8.5 2.5l-.94 2.06-2.06.94zm10 10l.94 2.06.94-2.06 2.06-.94-2.06-.94-.94-2.06-.94 2.06-2.06.94z\"/><path d=\"M17.41 7.96l-1.37-1.37c-.4-.4-.92-.59-1.43-.59-.52 0-1.04.2-1.43.59L10.3 9.45l-7.72 7.72c-.78.78-.78 2.05 0 2.83L4 21.41c.39.39.9.59 1.41.59.51 0 1.02-.2 1.41-.59l7.78-7.78 2.81-2.81c.8-.78.8-2.07 0-2.86zM5.41 20L4 18.59l7.72-7.72 1.47 1.35L5.41 20z\"/>\n",
              "  </svg>\n",
              "      </button>\n",
              "      \n",
              "  <style>\n",
              "    .colab-df-container {\n",
              "      display:flex;\n",
              "      flex-wrap:wrap;\n",
              "      gap: 12px;\n",
              "    }\n",
              "\n",
              "    .colab-df-convert {\n",
              "      background-color: #E8F0FE;\n",
              "      border: none;\n",
              "      border-radius: 50%;\n",
              "      cursor: pointer;\n",
              "      display: none;\n",
              "      fill: #1967D2;\n",
              "      height: 32px;\n",
              "      padding: 0 0 0 0;\n",
              "      width: 32px;\n",
              "    }\n",
              "\n",
              "    .colab-df-convert:hover {\n",
              "      background-color: #E2EBFA;\n",
              "      box-shadow: 0px 1px 2px rgba(60, 64, 67, 0.3), 0px 1px 3px 1px rgba(60, 64, 67, 0.15);\n",
              "      fill: #174EA6;\n",
              "    }\n",
              "\n",
              "    [theme=dark] .colab-df-convert {\n",
              "      background-color: #3B4455;\n",
              "      fill: #D2E3FC;\n",
              "    }\n",
              "\n",
              "    [theme=dark] .colab-df-convert:hover {\n",
              "      background-color: #434B5C;\n",
              "      box-shadow: 0px 1px 3px 1px rgba(0, 0, 0, 0.15);\n",
              "      filter: drop-shadow(0px 1px 2px rgba(0, 0, 0, 0.3));\n",
              "      fill: #FFFFFF;\n",
              "    }\n",
              "  </style>\n",
              "\n",
              "      <script>\n",
              "        const buttonEl =\n",
              "          document.querySelector('#df-b7e1b247-beb7-4068-85df-1d0cf0bf1c6e button.colab-df-convert');\n",
              "        buttonEl.style.display =\n",
              "          google.colab.kernel.accessAllowed ? 'block' : 'none';\n",
              "\n",
              "        async function convertToInteractive(key) {\n",
              "          const element = document.querySelector('#df-b7e1b247-beb7-4068-85df-1d0cf0bf1c6e');\n",
              "          const dataTable =\n",
              "            await google.colab.kernel.invokeFunction('convertToInteractive',\n",
              "                                                     [key], {});\n",
              "          if (!dataTable) return;\n",
              "\n",
              "          const docLinkHtml = 'Like what you see? Visit the ' +\n",
              "            '<a target=\"_blank\" href=https://colab.research.google.com/notebooks/data_table.ipynb>data table notebook</a>'\n",
              "            + ' to learn more about interactive tables.';\n",
              "          element.innerHTML = '';\n",
              "          dataTable['output_type'] = 'display_data';\n",
              "          await google.colab.output.renderOutput(dataTable, element);\n",
              "          const docLink = document.createElement('div');\n",
              "          docLink.innerHTML = docLinkHtml;\n",
              "          element.appendChild(docLink);\n",
              "        }\n",
              "      </script>\n",
              "    </div>\n",
              "  </div>\n",
              "  "
            ]
          },
          "metadata": {},
          "execution_count": 55
        }
      ]
    },
    {
      "cell_type": "code",
      "source": [
        "# GridSearchCV 에서 우리는 neg_mean_squared_error 를 사용했다.\n",
        "# 그러므로 -1을 곱하고 루트를 씌워서 RMSE 로 만든다.\n",
        "\n",
        "results['RMSE'] = np.sqrt(-1 * results['score'])\n",
        "results"
      ],
      "metadata": {
        "execution": {
          "iopub.status.busy": "2022-09-22T16:01:48.994791Z",
          "iopub.execute_input": "2022-09-22T16:01:48.995266Z",
          "iopub.status.idle": "2022-09-22T16:01:49.010512Z",
          "shell.execute_reply.started": "2022-09-22T16:01:48.995229Z",
          "shell.execute_reply": "2022-09-22T16:01:49.009205Z"
        },
        "trusted": true,
        "colab": {
          "base_uri": "https://localhost:8080/",
          "height": 175
        },
        "id": "u3uKX1vpDffR",
        "outputId": "708634b8-3449-420b-bf22-a6a6971189b9"
      },
      "execution_count": 56,
      "outputs": [
        {
          "output_type": "execute_result",
          "data": {
            "text/plain": [
              "   max_depth  n_estimators     score      RMSE\n",
              "0          1            50 -0.073394  0.270914\n",
              "1          1           100 -0.055020  0.234564\n",
              "2         10            50 -0.029404  0.171476\n",
              "3         10           100 -0.027174  0.164845"
            ],
            "text/html": [
              "\n",
              "  <div id=\"df-dcc78e5f-5af1-4fb9-927d-cf5fa40a7a63\">\n",
              "    <div class=\"colab-df-container\">\n",
              "      <div>\n",
              "<style scoped>\n",
              "    .dataframe tbody tr th:only-of-type {\n",
              "        vertical-align: middle;\n",
              "    }\n",
              "\n",
              "    .dataframe tbody tr th {\n",
              "        vertical-align: top;\n",
              "    }\n",
              "\n",
              "    .dataframe thead th {\n",
              "        text-align: right;\n",
              "    }\n",
              "</style>\n",
              "<table border=\"1\" class=\"dataframe\">\n",
              "  <thead>\n",
              "    <tr style=\"text-align: right;\">\n",
              "      <th></th>\n",
              "      <th>max_depth</th>\n",
              "      <th>n_estimators</th>\n",
              "      <th>score</th>\n",
              "      <th>RMSE</th>\n",
              "    </tr>\n",
              "  </thead>\n",
              "  <tbody>\n",
              "    <tr>\n",
              "      <th>0</th>\n",
              "      <td>1</td>\n",
              "      <td>50</td>\n",
              "      <td>-0.073394</td>\n",
              "      <td>0.270914</td>\n",
              "    </tr>\n",
              "    <tr>\n",
              "      <th>1</th>\n",
              "      <td>1</td>\n",
              "      <td>100</td>\n",
              "      <td>-0.055020</td>\n",
              "      <td>0.234564</td>\n",
              "    </tr>\n",
              "    <tr>\n",
              "      <th>2</th>\n",
              "      <td>10</td>\n",
              "      <td>50</td>\n",
              "      <td>-0.029404</td>\n",
              "      <td>0.171476</td>\n",
              "    </tr>\n",
              "    <tr>\n",
              "      <th>3</th>\n",
              "      <td>10</td>\n",
              "      <td>100</td>\n",
              "      <td>-0.027174</td>\n",
              "      <td>0.164845</td>\n",
              "    </tr>\n",
              "  </tbody>\n",
              "</table>\n",
              "</div>\n",
              "      <button class=\"colab-df-convert\" onclick=\"convertToInteractive('df-dcc78e5f-5af1-4fb9-927d-cf5fa40a7a63')\"\n",
              "              title=\"Convert this dataframe to an interactive table.\"\n",
              "              style=\"display:none;\">\n",
              "        \n",
              "  <svg xmlns=\"http://www.w3.org/2000/svg\" height=\"24px\"viewBox=\"0 0 24 24\"\n",
              "       width=\"24px\">\n",
              "    <path d=\"M0 0h24v24H0V0z\" fill=\"none\"/>\n",
              "    <path d=\"M18.56 5.44l.94 2.06.94-2.06 2.06-.94-2.06-.94-.94-2.06-.94 2.06-2.06.94zm-11 1L8.5 8.5l.94-2.06 2.06-.94-2.06-.94L8.5 2.5l-.94 2.06-2.06.94zm10 10l.94 2.06.94-2.06 2.06-.94-2.06-.94-.94-2.06-.94 2.06-2.06.94z\"/><path d=\"M17.41 7.96l-1.37-1.37c-.4-.4-.92-.59-1.43-.59-.52 0-1.04.2-1.43.59L10.3 9.45l-7.72 7.72c-.78.78-.78 2.05 0 2.83L4 21.41c.39.39.9.59 1.41.59.51 0 1.02-.2 1.41-.59l7.78-7.78 2.81-2.81c.8-.78.8-2.07 0-2.86zM5.41 20L4 18.59l7.72-7.72 1.47 1.35L5.41 20z\"/>\n",
              "  </svg>\n",
              "      </button>\n",
              "      \n",
              "  <style>\n",
              "    .colab-df-container {\n",
              "      display:flex;\n",
              "      flex-wrap:wrap;\n",
              "      gap: 12px;\n",
              "    }\n",
              "\n",
              "    .colab-df-convert {\n",
              "      background-color: #E8F0FE;\n",
              "      border: none;\n",
              "      border-radius: 50%;\n",
              "      cursor: pointer;\n",
              "      display: none;\n",
              "      fill: #1967D2;\n",
              "      height: 32px;\n",
              "      padding: 0 0 0 0;\n",
              "      width: 32px;\n",
              "    }\n",
              "\n",
              "    .colab-df-convert:hover {\n",
              "      background-color: #E2EBFA;\n",
              "      box-shadow: 0px 1px 2px rgba(60, 64, 67, 0.3), 0px 1px 3px 1px rgba(60, 64, 67, 0.15);\n",
              "      fill: #174EA6;\n",
              "    }\n",
              "\n",
              "    [theme=dark] .colab-df-convert {\n",
              "      background-color: #3B4455;\n",
              "      fill: #D2E3FC;\n",
              "    }\n",
              "\n",
              "    [theme=dark] .colab-df-convert:hover {\n",
              "      background-color: #434B5C;\n",
              "      box-shadow: 0px 1px 3px 1px rgba(0, 0, 0, 0.15);\n",
              "      filter: drop-shadow(0px 1px 2px rgba(0, 0, 0, 0.3));\n",
              "      fill: #FFFFFF;\n",
              "    }\n",
              "  </style>\n",
              "\n",
              "      <script>\n",
              "        const buttonEl =\n",
              "          document.querySelector('#df-dcc78e5f-5af1-4fb9-927d-cf5fa40a7a63 button.colab-df-convert');\n",
              "        buttonEl.style.display =\n",
              "          google.colab.kernel.accessAllowed ? 'block' : 'none';\n",
              "\n",
              "        async function convertToInteractive(key) {\n",
              "          const element = document.querySelector('#df-dcc78e5f-5af1-4fb9-927d-cf5fa40a7a63');\n",
              "          const dataTable =\n",
              "            await google.colab.kernel.invokeFunction('convertToInteractive',\n",
              "                                                     [key], {});\n",
              "          if (!dataTable) return;\n",
              "\n",
              "          const docLinkHtml = 'Like what you see? Visit the ' +\n",
              "            '<a target=\"_blank\" href=https://colab.research.google.com/notebooks/data_table.ipynb>data table notebook</a>'\n",
              "            + ' to learn more about interactive tables.';\n",
              "          element.innerHTML = '';\n",
              "          dataTable['output_type'] = 'display_data';\n",
              "          await google.colab.output.renderOutput(dataTable, element);\n",
              "          const docLink = document.createElement('div');\n",
              "          docLink.innerHTML = docLinkHtml;\n",
              "          element.appendChild(docLink);\n",
              "        }\n",
              "      </script>\n",
              "    </div>\n",
              "  </div>\n",
              "  "
            ]
          },
          "metadata": {},
          "execution_count": 56
        }
      ]
    },
    {
      "cell_type": "code",
      "source": [
        "# Root Mean Squared Log Error 사실 price 가 아직 로그값이다.\n",
        "\n",
        "results = results.rename(columns={'RMSE': 'RMSLE'})\n",
        "results"
      ],
      "metadata": {
        "execution": {
          "iopub.status.busy": "2022-09-22T16:01:49.012272Z",
          "iopub.execute_input": "2022-09-22T16:01:49.012681Z",
          "iopub.status.idle": "2022-09-22T16:01:49.029598Z",
          "shell.execute_reply.started": "2022-09-22T16:01:49.012644Z",
          "shell.execute_reply": "2022-09-22T16:01:49.028102Z"
        },
        "trusted": true,
        "colab": {
          "base_uri": "https://localhost:8080/",
          "height": 175
        },
        "id": "3BnPCkPADffS",
        "outputId": "baab81d3-9bb6-485e-aff7-28272255be9f"
      },
      "execution_count": 57,
      "outputs": [
        {
          "output_type": "execute_result",
          "data": {
            "text/plain": [
              "   max_depth  n_estimators     score     RMSLE\n",
              "0          1            50 -0.073394  0.270914\n",
              "1          1           100 -0.055020  0.234564\n",
              "2         10            50 -0.029404  0.171476\n",
              "3         10           100 -0.027174  0.164845"
            ],
            "text/html": [
              "\n",
              "  <div id=\"df-fa3aa68e-810b-4596-b368-c508190837d8\">\n",
              "    <div class=\"colab-df-container\">\n",
              "      <div>\n",
              "<style scoped>\n",
              "    .dataframe tbody tr th:only-of-type {\n",
              "        vertical-align: middle;\n",
              "    }\n",
              "\n",
              "    .dataframe tbody tr th {\n",
              "        vertical-align: top;\n",
              "    }\n",
              "\n",
              "    .dataframe thead th {\n",
              "        text-align: right;\n",
              "    }\n",
              "</style>\n",
              "<table border=\"1\" class=\"dataframe\">\n",
              "  <thead>\n",
              "    <tr style=\"text-align: right;\">\n",
              "      <th></th>\n",
              "      <th>max_depth</th>\n",
              "      <th>n_estimators</th>\n",
              "      <th>score</th>\n",
              "      <th>RMSLE</th>\n",
              "    </tr>\n",
              "  </thead>\n",
              "  <tbody>\n",
              "    <tr>\n",
              "      <th>0</th>\n",
              "      <td>1</td>\n",
              "      <td>50</td>\n",
              "      <td>-0.073394</td>\n",
              "      <td>0.270914</td>\n",
              "    </tr>\n",
              "    <tr>\n",
              "      <th>1</th>\n",
              "      <td>1</td>\n",
              "      <td>100</td>\n",
              "      <td>-0.055020</td>\n",
              "      <td>0.234564</td>\n",
              "    </tr>\n",
              "    <tr>\n",
              "      <th>2</th>\n",
              "      <td>10</td>\n",
              "      <td>50</td>\n",
              "      <td>-0.029404</td>\n",
              "      <td>0.171476</td>\n",
              "    </tr>\n",
              "    <tr>\n",
              "      <th>3</th>\n",
              "      <td>10</td>\n",
              "      <td>100</td>\n",
              "      <td>-0.027174</td>\n",
              "      <td>0.164845</td>\n",
              "    </tr>\n",
              "  </tbody>\n",
              "</table>\n",
              "</div>\n",
              "      <button class=\"colab-df-convert\" onclick=\"convertToInteractive('df-fa3aa68e-810b-4596-b368-c508190837d8')\"\n",
              "              title=\"Convert this dataframe to an interactive table.\"\n",
              "              style=\"display:none;\">\n",
              "        \n",
              "  <svg xmlns=\"http://www.w3.org/2000/svg\" height=\"24px\"viewBox=\"0 0 24 24\"\n",
              "       width=\"24px\">\n",
              "    <path d=\"M0 0h24v24H0V0z\" fill=\"none\"/>\n",
              "    <path d=\"M18.56 5.44l.94 2.06.94-2.06 2.06-.94-2.06-.94-.94-2.06-.94 2.06-2.06.94zm-11 1L8.5 8.5l.94-2.06 2.06-.94-2.06-.94L8.5 2.5l-.94 2.06-2.06.94zm10 10l.94 2.06.94-2.06 2.06-.94-2.06-.94-.94-2.06-.94 2.06-2.06.94z\"/><path d=\"M17.41 7.96l-1.37-1.37c-.4-.4-.92-.59-1.43-.59-.52 0-1.04.2-1.43.59L10.3 9.45l-7.72 7.72c-.78.78-.78 2.05 0 2.83L4 21.41c.39.39.9.59 1.41.59.51 0 1.02-.2 1.41-.59l7.78-7.78 2.81-2.81c.8-.78.8-2.07 0-2.86zM5.41 20L4 18.59l7.72-7.72 1.47 1.35L5.41 20z\"/>\n",
              "  </svg>\n",
              "      </button>\n",
              "      \n",
              "  <style>\n",
              "    .colab-df-container {\n",
              "      display:flex;\n",
              "      flex-wrap:wrap;\n",
              "      gap: 12px;\n",
              "    }\n",
              "\n",
              "    .colab-df-convert {\n",
              "      background-color: #E8F0FE;\n",
              "      border: none;\n",
              "      border-radius: 50%;\n",
              "      cursor: pointer;\n",
              "      display: none;\n",
              "      fill: #1967D2;\n",
              "      height: 32px;\n",
              "      padding: 0 0 0 0;\n",
              "      width: 32px;\n",
              "    }\n",
              "\n",
              "    .colab-df-convert:hover {\n",
              "      background-color: #E2EBFA;\n",
              "      box-shadow: 0px 1px 2px rgba(60, 64, 67, 0.3), 0px 1px 3px 1px rgba(60, 64, 67, 0.15);\n",
              "      fill: #174EA6;\n",
              "    }\n",
              "\n",
              "    [theme=dark] .colab-df-convert {\n",
              "      background-color: #3B4455;\n",
              "      fill: #D2E3FC;\n",
              "    }\n",
              "\n",
              "    [theme=dark] .colab-df-convert:hover {\n",
              "      background-color: #434B5C;\n",
              "      box-shadow: 0px 1px 3px 1px rgba(0, 0, 0, 0.15);\n",
              "      filter: drop-shadow(0px 1px 2px rgba(0, 0, 0, 0.3));\n",
              "      fill: #FFFFFF;\n",
              "    }\n",
              "  </style>\n",
              "\n",
              "      <script>\n",
              "        const buttonEl =\n",
              "          document.querySelector('#df-fa3aa68e-810b-4596-b368-c508190837d8 button.colab-df-convert');\n",
              "        buttonEl.style.display =\n",
              "          google.colab.kernel.accessAllowed ? 'block' : 'none';\n",
              "\n",
              "        async function convertToInteractive(key) {\n",
              "          const element = document.querySelector('#df-fa3aa68e-810b-4596-b368-c508190837d8');\n",
              "          const dataTable =\n",
              "            await google.colab.kernel.invokeFunction('convertToInteractive',\n",
              "                                                     [key], {});\n",
              "          if (!dataTable) return;\n",
              "\n",
              "          const docLinkHtml = 'Like what you see? Visit the ' +\n",
              "            '<a target=\"_blank\" href=https://colab.research.google.com/notebooks/data_table.ipynb>data table notebook</a>'\n",
              "            + ' to learn more about interactive tables.';\n",
              "          element.innerHTML = '';\n",
              "          dataTable['output_type'] = 'display_data';\n",
              "          await google.colab.output.renderOutput(dataTable, element);\n",
              "          const docLink = document.createElement('div');\n",
              "          docLink.innerHTML = docLinkHtml;\n",
              "          element.appendChild(docLink);\n",
              "        }\n",
              "      </script>\n",
              "    </div>\n",
              "  </div>\n",
              "  "
            ]
          },
          "metadata": {},
          "execution_count": 57
        }
      ]
    },
    {
      "cell_type": "code",
      "source": [
        "# RMSLE 순서로 정렬\n",
        "\n",
        "results = results.sort_values('RMSLE')\n",
        "results"
      ],
      "metadata": {
        "execution": {
          "iopub.status.busy": "2022-09-22T16:01:49.034942Z",
          "iopub.execute_input": "2022-09-22T16:01:49.035626Z",
          "iopub.status.idle": "2022-09-22T16:01:49.048833Z",
          "shell.execute_reply.started": "2022-09-22T16:01:49.035587Z",
          "shell.execute_reply": "2022-09-22T16:01:49.047893Z"
        },
        "trusted": true,
        "colab": {
          "base_uri": "https://localhost:8080/",
          "height": 175
        },
        "id": "ayO_adh-DffS",
        "outputId": "45726ece-3f7e-4efb-956d-f892661259d0"
      },
      "execution_count": 58,
      "outputs": [
        {
          "output_type": "execute_result",
          "data": {
            "text/plain": [
              "   max_depth  n_estimators     score     RMSLE\n",
              "3         10           100 -0.027174  0.164845\n",
              "2         10            50 -0.029404  0.171476\n",
              "1          1           100 -0.055020  0.234564\n",
              "0          1            50 -0.073394  0.270914"
            ],
            "text/html": [
              "\n",
              "  <div id=\"df-96b1d9da-c114-4429-ac6f-952a8e914453\">\n",
              "    <div class=\"colab-df-container\">\n",
              "      <div>\n",
              "<style scoped>\n",
              "    .dataframe tbody tr th:only-of-type {\n",
              "        vertical-align: middle;\n",
              "    }\n",
              "\n",
              "    .dataframe tbody tr th {\n",
              "        vertical-align: top;\n",
              "    }\n",
              "\n",
              "    .dataframe thead th {\n",
              "        text-align: right;\n",
              "    }\n",
              "</style>\n",
              "<table border=\"1\" class=\"dataframe\">\n",
              "  <thead>\n",
              "    <tr style=\"text-align: right;\">\n",
              "      <th></th>\n",
              "      <th>max_depth</th>\n",
              "      <th>n_estimators</th>\n",
              "      <th>score</th>\n",
              "      <th>RMSLE</th>\n",
              "    </tr>\n",
              "  </thead>\n",
              "  <tbody>\n",
              "    <tr>\n",
              "      <th>3</th>\n",
              "      <td>10</td>\n",
              "      <td>100</td>\n",
              "      <td>-0.027174</td>\n",
              "      <td>0.164845</td>\n",
              "    </tr>\n",
              "    <tr>\n",
              "      <th>2</th>\n",
              "      <td>10</td>\n",
              "      <td>50</td>\n",
              "      <td>-0.029404</td>\n",
              "      <td>0.171476</td>\n",
              "    </tr>\n",
              "    <tr>\n",
              "      <th>1</th>\n",
              "      <td>1</td>\n",
              "      <td>100</td>\n",
              "      <td>-0.055020</td>\n",
              "      <td>0.234564</td>\n",
              "    </tr>\n",
              "    <tr>\n",
              "      <th>0</th>\n",
              "      <td>1</td>\n",
              "      <td>50</td>\n",
              "      <td>-0.073394</td>\n",
              "      <td>0.270914</td>\n",
              "    </tr>\n",
              "  </tbody>\n",
              "</table>\n",
              "</div>\n",
              "      <button class=\"colab-df-convert\" onclick=\"convertToInteractive('df-96b1d9da-c114-4429-ac6f-952a8e914453')\"\n",
              "              title=\"Convert this dataframe to an interactive table.\"\n",
              "              style=\"display:none;\">\n",
              "        \n",
              "  <svg xmlns=\"http://www.w3.org/2000/svg\" height=\"24px\"viewBox=\"0 0 24 24\"\n",
              "       width=\"24px\">\n",
              "    <path d=\"M0 0h24v24H0V0z\" fill=\"none\"/>\n",
              "    <path d=\"M18.56 5.44l.94 2.06.94-2.06 2.06-.94-2.06-.94-.94-2.06-.94 2.06-2.06.94zm-11 1L8.5 8.5l.94-2.06 2.06-.94-2.06-.94L8.5 2.5l-.94 2.06-2.06.94zm10 10l.94 2.06.94-2.06 2.06-.94-2.06-.94-.94-2.06-.94 2.06-2.06.94z\"/><path d=\"M17.41 7.96l-1.37-1.37c-.4-.4-.92-.59-1.43-.59-.52 0-1.04.2-1.43.59L10.3 9.45l-7.72 7.72c-.78.78-.78 2.05 0 2.83L4 21.41c.39.39.9.59 1.41.59.51 0 1.02-.2 1.41-.59l7.78-7.78 2.81-2.81c.8-.78.8-2.07 0-2.86zM5.41 20L4 18.59l7.72-7.72 1.47 1.35L5.41 20z\"/>\n",
              "  </svg>\n",
              "      </button>\n",
              "      \n",
              "  <style>\n",
              "    .colab-df-container {\n",
              "      display:flex;\n",
              "      flex-wrap:wrap;\n",
              "      gap: 12px;\n",
              "    }\n",
              "\n",
              "    .colab-df-convert {\n",
              "      background-color: #E8F0FE;\n",
              "      border: none;\n",
              "      border-radius: 50%;\n",
              "      cursor: pointer;\n",
              "      display: none;\n",
              "      fill: #1967D2;\n",
              "      height: 32px;\n",
              "      padding: 0 0 0 0;\n",
              "      width: 32px;\n",
              "    }\n",
              "\n",
              "    .colab-df-convert:hover {\n",
              "      background-color: #E2EBFA;\n",
              "      box-shadow: 0px 1px 2px rgba(60, 64, 67, 0.3), 0px 1px 3px 1px rgba(60, 64, 67, 0.15);\n",
              "      fill: #174EA6;\n",
              "    }\n",
              "\n",
              "    [theme=dark] .colab-df-convert {\n",
              "      background-color: #3B4455;\n",
              "      fill: #D2E3FC;\n",
              "    }\n",
              "\n",
              "    [theme=dark] .colab-df-convert:hover {\n",
              "      background-color: #434B5C;\n",
              "      box-shadow: 0px 1px 3px 1px rgba(0, 0, 0, 0.15);\n",
              "      filter: drop-shadow(0px 1px 2px rgba(0, 0, 0, 0.3));\n",
              "      fill: #FFFFFF;\n",
              "    }\n",
              "  </style>\n",
              "\n",
              "      <script>\n",
              "        const buttonEl =\n",
              "          document.querySelector('#df-96b1d9da-c114-4429-ac6f-952a8e914453 button.colab-df-convert');\n",
              "        buttonEl.style.display =\n",
              "          google.colab.kernel.accessAllowed ? 'block' : 'none';\n",
              "\n",
              "        async function convertToInteractive(key) {\n",
              "          const element = document.querySelector('#df-96b1d9da-c114-4429-ac6f-952a8e914453');\n",
              "          const dataTable =\n",
              "            await google.colab.kernel.invokeFunction('convertToInteractive',\n",
              "                                                     [key], {});\n",
              "          if (!dataTable) return;\n",
              "\n",
              "          const docLinkHtml = 'Like what you see? Visit the ' +\n",
              "            '<a target=\"_blank\" href=https://colab.research.google.com/notebooks/data_table.ipynb>data table notebook</a>'\n",
              "            + ' to learn more about interactive tables.';\n",
              "          element.innerHTML = '';\n",
              "          dataTable['output_type'] = 'display_data';\n",
              "          await google.colab.output.renderOutput(dataTable, element);\n",
              "          const docLink = document.createElement('div');\n",
              "          docLink.innerHTML = docLinkHtml;\n",
              "          element.appendChild(docLink);\n",
              "        }\n",
              "      </script>\n",
              "    </div>\n",
              "  </div>\n",
              "  "
            ]
          },
          "metadata": {},
          "execution_count": 58
        }
      ]
    },
    {
      "cell_type": "code",
      "source": [
        "# 위의 과정을 함수화\n",
        "\n",
        "def my_GridSearch(model, train, y, param_grid, verbose=2, n_jobs=5):\n",
        "    # GridSearchCV 모델로 초기화\n",
        "    grid_model = GridSearchCV(model, param_grid=param_grid, scoring='neg_mean_squared_error', \\\n",
        "                              cv=5, verbose=verbose, n_jobs=n_jobs)\n",
        "    \n",
        "    # 모델 fitting\n",
        "    grid_model.fit(train, y)\n",
        "\n",
        "    # 결과값 저장\n",
        "    params = grid_model.cv_results_['params']\n",
        "    score = grid_model.cv_results_['mean_test_score']\n",
        "    \n",
        "    # 데이터 프레임 생성\n",
        "    results = pd.DataFrame(params)\n",
        "    results['score'] = score\n",
        "    \n",
        "    # RMSLE 값 계산 후 정렬\n",
        "    results['RMSLE'] = np.sqrt(-1 * results['score'])\n",
        "    results = results.sort_values('RMSLE')\n",
        "\n",
        "    return results"
      ],
      "metadata": {
        "execution": {
          "iopub.status.busy": "2022-09-22T16:01:49.049984Z",
          "iopub.execute_input": "2022-09-22T16:01:49.050440Z",
          "iopub.status.idle": "2022-09-22T16:01:49.061731Z",
          "shell.execute_reply.started": "2022-09-22T16:01:49.050402Z",
          "shell.execute_reply": "2022-09-22T16:01:49.060213Z"
        },
        "trusted": true,
        "id": "wTjqD5x7DffS"
      },
      "execution_count": 59,
      "outputs": []
    },
    {
      "cell_type": "code",
      "source": [
        "# 가장 좋은 파라미터가 무엇인지 확인\n",
        "\n",
        "param_grid = {\n",
        "    'n_estimators': [50, 100],\n",
        "    'max_depth': [1, 10] \n",
        "}\n",
        "\n",
        "model = LGBMRegressor(random_state=random_state)\n",
        "my_GridSearch(model, train, y, param_grid, verbose=2, n_jobs=5)\n"
      ],
      "metadata": {
        "execution": {
          "iopub.status.busy": "2022-09-22T16:01:49.063668Z",
          "iopub.execute_input": "2022-09-22T16:01:49.064199Z",
          "iopub.status.idle": "2022-09-22T16:01:51.644062Z",
          "shell.execute_reply.started": "2022-09-22T16:01:49.064147Z",
          "shell.execute_reply": "2022-09-22T16:01:51.643035Z"
        },
        "trusted": true,
        "colab": {
          "base_uri": "https://localhost:8080/",
          "height": 192
        },
        "id": "5on37RyzDffS",
        "outputId": "65fd11d4-c402-4370-9efc-78e038834757"
      },
      "execution_count": 60,
      "outputs": [
        {
          "output_type": "stream",
          "name": "stdout",
          "text": [
            "Fitting 5 folds for each of 4 candidates, totalling 20 fits\n"
          ]
        },
        {
          "output_type": "execute_result",
          "data": {
            "text/plain": [
              "   max_depth  n_estimators     score     RMSLE\n",
              "3         10           100 -0.027174  0.164845\n",
              "2         10            50 -0.029404  0.171476\n",
              "1          1           100 -0.055020  0.234564\n",
              "0          1            50 -0.073394  0.270914"
            ],
            "text/html": [
              "\n",
              "  <div id=\"df-a72e6f17-e02d-4ac9-88d2-ce90dafe2913\">\n",
              "    <div class=\"colab-df-container\">\n",
              "      <div>\n",
              "<style scoped>\n",
              "    .dataframe tbody tr th:only-of-type {\n",
              "        vertical-align: middle;\n",
              "    }\n",
              "\n",
              "    .dataframe tbody tr th {\n",
              "        vertical-align: top;\n",
              "    }\n",
              "\n",
              "    .dataframe thead th {\n",
              "        text-align: right;\n",
              "    }\n",
              "</style>\n",
              "<table border=\"1\" class=\"dataframe\">\n",
              "  <thead>\n",
              "    <tr style=\"text-align: right;\">\n",
              "      <th></th>\n",
              "      <th>max_depth</th>\n",
              "      <th>n_estimators</th>\n",
              "      <th>score</th>\n",
              "      <th>RMSLE</th>\n",
              "    </tr>\n",
              "  </thead>\n",
              "  <tbody>\n",
              "    <tr>\n",
              "      <th>3</th>\n",
              "      <td>10</td>\n",
              "      <td>100</td>\n",
              "      <td>-0.027174</td>\n",
              "      <td>0.164845</td>\n",
              "    </tr>\n",
              "    <tr>\n",
              "      <th>2</th>\n",
              "      <td>10</td>\n",
              "      <td>50</td>\n",
              "      <td>-0.029404</td>\n",
              "      <td>0.171476</td>\n",
              "    </tr>\n",
              "    <tr>\n",
              "      <th>1</th>\n",
              "      <td>1</td>\n",
              "      <td>100</td>\n",
              "      <td>-0.055020</td>\n",
              "      <td>0.234564</td>\n",
              "    </tr>\n",
              "    <tr>\n",
              "      <th>0</th>\n",
              "      <td>1</td>\n",
              "      <td>50</td>\n",
              "      <td>-0.073394</td>\n",
              "      <td>0.270914</td>\n",
              "    </tr>\n",
              "  </tbody>\n",
              "</table>\n",
              "</div>\n",
              "      <button class=\"colab-df-convert\" onclick=\"convertToInteractive('df-a72e6f17-e02d-4ac9-88d2-ce90dafe2913')\"\n",
              "              title=\"Convert this dataframe to an interactive table.\"\n",
              "              style=\"display:none;\">\n",
              "        \n",
              "  <svg xmlns=\"http://www.w3.org/2000/svg\" height=\"24px\"viewBox=\"0 0 24 24\"\n",
              "       width=\"24px\">\n",
              "    <path d=\"M0 0h24v24H0V0z\" fill=\"none\"/>\n",
              "    <path d=\"M18.56 5.44l.94 2.06.94-2.06 2.06-.94-2.06-.94-.94-2.06-.94 2.06-2.06.94zm-11 1L8.5 8.5l.94-2.06 2.06-.94-2.06-.94L8.5 2.5l-.94 2.06-2.06.94zm10 10l.94 2.06.94-2.06 2.06-.94-2.06-.94-.94-2.06-.94 2.06-2.06.94z\"/><path d=\"M17.41 7.96l-1.37-1.37c-.4-.4-.92-.59-1.43-.59-.52 0-1.04.2-1.43.59L10.3 9.45l-7.72 7.72c-.78.78-.78 2.05 0 2.83L4 21.41c.39.39.9.59 1.41.59.51 0 1.02-.2 1.41-.59l7.78-7.78 2.81-2.81c.8-.78.8-2.07 0-2.86zM5.41 20L4 18.59l7.72-7.72 1.47 1.35L5.41 20z\"/>\n",
              "  </svg>\n",
              "      </button>\n",
              "      \n",
              "  <style>\n",
              "    .colab-df-container {\n",
              "      display:flex;\n",
              "      flex-wrap:wrap;\n",
              "      gap: 12px;\n",
              "    }\n",
              "\n",
              "    .colab-df-convert {\n",
              "      background-color: #E8F0FE;\n",
              "      border: none;\n",
              "      border-radius: 50%;\n",
              "      cursor: pointer;\n",
              "      display: none;\n",
              "      fill: #1967D2;\n",
              "      height: 32px;\n",
              "      padding: 0 0 0 0;\n",
              "      width: 32px;\n",
              "    }\n",
              "\n",
              "    .colab-df-convert:hover {\n",
              "      background-color: #E2EBFA;\n",
              "      box-shadow: 0px 1px 2px rgba(60, 64, 67, 0.3), 0px 1px 3px 1px rgba(60, 64, 67, 0.15);\n",
              "      fill: #174EA6;\n",
              "    }\n",
              "\n",
              "    [theme=dark] .colab-df-convert {\n",
              "      background-color: #3B4455;\n",
              "      fill: #D2E3FC;\n",
              "    }\n",
              "\n",
              "    [theme=dark] .colab-df-convert:hover {\n",
              "      background-color: #434B5C;\n",
              "      box-shadow: 0px 1px 3px 1px rgba(0, 0, 0, 0.15);\n",
              "      filter: drop-shadow(0px 1px 2px rgba(0, 0, 0, 0.3));\n",
              "      fill: #FFFFFF;\n",
              "    }\n",
              "  </style>\n",
              "\n",
              "      <script>\n",
              "        const buttonEl =\n",
              "          document.querySelector('#df-a72e6f17-e02d-4ac9-88d2-ce90dafe2913 button.colab-df-convert');\n",
              "        buttonEl.style.display =\n",
              "          google.colab.kernel.accessAllowed ? 'block' : 'none';\n",
              "\n",
              "        async function convertToInteractive(key) {\n",
              "          const element = document.querySelector('#df-a72e6f17-e02d-4ac9-88d2-ce90dafe2913');\n",
              "          const dataTable =\n",
              "            await google.colab.kernel.invokeFunction('convertToInteractive',\n",
              "                                                     [key], {});\n",
              "          if (!dataTable) return;\n",
              "\n",
              "          const docLinkHtml = 'Like what you see? Visit the ' +\n",
              "            '<a target=\"_blank\" href=https://colab.research.google.com/notebooks/data_table.ipynb>data table notebook</a>'\n",
              "            + ' to learn more about interactive tables.';\n",
              "          element.innerHTML = '';\n",
              "          dataTable['output_type'] = 'display_data';\n",
              "          await google.colab.output.renderOutput(dataTable, element);\n",
              "          const docLink = document.createElement('div');\n",
              "          docLink.innerHTML = docLinkHtml;\n",
              "          element.appendChild(docLink);\n",
              "        }\n",
              "      </script>\n",
              "    </div>\n",
              "  </div>\n",
              "  "
            ]
          },
          "metadata": {},
          "execution_count": 60
        }
      ]
    },
    {
      "cell_type": "code",
      "source": [
        "model = LGBMRegressor(max_depth=10, n_estimators=100, random_state=random_state)\n",
        "model.fit(train, y)\n",
        "prediction = model.predict(test)\n",
        "prediction"
      ],
      "metadata": {
        "colab": {
          "base_uri": "https://localhost:8080/"
        },
        "id": "otkQxSHAUbri",
        "outputId": "7e816025-a797-4314-8277-2824e46485e8"
      },
      "execution_count": 61,
      "outputs": [
        {
          "output_type": "execute_result",
          "data": {
            "text/plain": [
              "array([13.09620474, 13.07084325, 14.21470283, ..., 13.0277126 ,\n",
              "       12.69143596, 12.97886166])"
            ]
          },
          "metadata": {},
          "execution_count": 61
        }
      ]
    },
    {
      "cell_type": "markdown",
      "source": [
        "위 결과를 통해 두 파라미터가 클수록 성능이 좋아진다는 점을 알 수 있다."
      ],
      "metadata": {
        "id": "i0NqEEU-DffT"
      }
    },
    {
      "cell_type": "markdown",
      "source": [
        "# 결과 제출하고 점수 확인하기"
      ],
      "metadata": {
        "id": "ne2s3NlbOpBn"
      }
    },
    {
      "cell_type": "code",
      "source": [
        "def save_submission(model, train, y, test, model_name, rmsle=None):\n",
        "    model.fit(train, y)\n",
        "    prediction = model.predict(test)\n",
        "    prediction = np.expm1(prediction) # 위의 결과물이 로그 결과물이므로 다시 변환\n",
        "    data_dir = '/content/drive/MyDrive/아이펠 데이터/kaggle_kakr_housing/data' # 디렉토리 확인할 것\n",
        "    submission_path = join(data_dir, 'sample_submission.csv')\n",
        "    submission = pd.read_csv(submission_path)\n",
        "    submission['price'] = prediction\n",
        "    submission_csv_path = '{}/submission_{}_RMSLE_{}.csv'.format(data_dir, model_name, rmsle)\n",
        "    submission.to_csv(submission_csv_path, index=False)\n",
        "    print('{} saved!'.format(submission_csv_path))"
      ],
      "metadata": {
        "execution": {
          "iopub.status.busy": "2022-09-22T16:05:04.281440Z",
          "iopub.execute_input": "2022-09-22T16:05:04.281916Z",
          "iopub.status.idle": "2022-09-22T16:05:04.289940Z",
          "shell.execute_reply.started": "2022-09-22T16:05:04.281880Z",
          "shell.execute_reply": "2022-09-22T16:05:04.289036Z"
        },
        "trusted": true,
        "id": "zZmlBgUEDffV"
      },
      "execution_count": 62,
      "outputs": []
    },
    {
      "cell_type": "code",
      "source": [
        "save_submission(model, train, y, test, 'lgbm', rmsle='0.1648')"
      ],
      "metadata": {
        "execution": {
          "iopub.status.busy": "2022-09-22T16:01:52.075975Z",
          "iopub.execute_input": "2022-09-22T16:01:52.076337Z",
          "iopub.status.idle": "2022-09-22T16:01:52.463321Z",
          "shell.execute_reply.started": "2022-09-22T16:01:52.076305Z",
          "shell.execute_reply": "2022-09-22T16:01:52.461919Z"
        },
        "trusted": true,
        "colab": {
          "base_uri": "https://localhost:8080/"
        },
        "id": "sHqMILQ3DffV",
        "outputId": "9011b02a-850b-440c-bcc6-f7a0f00b5c62"
      },
      "execution_count": 63,
      "outputs": [
        {
          "output_type": "stream",
          "name": "stdout",
          "text": [
            "/content/drive/MyDrive/아이펠 데이터/kaggle_kakr_housing/data/submission_lgbm_RMSLE_0.1648.csv saved!\n"
          ]
        }
      ]
    },
    {
      "cell_type": "markdown",
      "source": [
        "이렇게 해서 얻은 점수는 114611.88176 이다.\n",
        "\n",
        "모델을 조금 더 손 봐서 이것을 낮춰보자."
      ],
      "metadata": {
        "id": "5KzBkGSuF9Us"
      }
    },
    {
      "cell_type": "code",
      "source": [
        "param_grid = {\n",
        "    'n_estimators': [200],\n",
        "    'max_depth': [30, -1],\n",
        "    'booting_type':['rf', 'gbdt', 'dart'] \n",
        "}\n",
        "\n",
        "model = LGBMRegressor(random_state=random_state)\n",
        "my_GridSearch(model, train, y, param_grid, verbose=2, n_jobs=5)\n"
      ],
      "metadata": {
        "colab": {
          "base_uri": "https://localhost:8080/",
          "height": 255
        },
        "id": "bZeah-AvHTlu",
        "outputId": "88fb73bd-fe49-40d8-aa75-a9c2a79b6acc"
      },
      "execution_count": 64,
      "outputs": [
        {
          "output_type": "stream",
          "name": "stdout",
          "text": [
            "Fitting 5 folds for each of 6 candidates, totalling 30 fits\n"
          ]
        },
        {
          "output_type": "execute_result",
          "data": {
            "text/plain": [
              "  booting_type  max_depth  n_estimators     score     RMSLE\n",
              "0           rf         30           200 -0.026343  0.162307\n",
              "1           rf         -1           200 -0.026343  0.162307\n",
              "2         gbdt         30           200 -0.026343  0.162307\n",
              "3         gbdt         -1           200 -0.026343  0.162307\n",
              "4         dart         30           200 -0.026343  0.162307\n",
              "5         dart         -1           200 -0.026343  0.162307"
            ],
            "text/html": [
              "\n",
              "  <div id=\"df-2e4857ca-2f36-4c63-8b1a-49e6f70493e2\">\n",
              "    <div class=\"colab-df-container\">\n",
              "      <div>\n",
              "<style scoped>\n",
              "    .dataframe tbody tr th:only-of-type {\n",
              "        vertical-align: middle;\n",
              "    }\n",
              "\n",
              "    .dataframe tbody tr th {\n",
              "        vertical-align: top;\n",
              "    }\n",
              "\n",
              "    .dataframe thead th {\n",
              "        text-align: right;\n",
              "    }\n",
              "</style>\n",
              "<table border=\"1\" class=\"dataframe\">\n",
              "  <thead>\n",
              "    <tr style=\"text-align: right;\">\n",
              "      <th></th>\n",
              "      <th>booting_type</th>\n",
              "      <th>max_depth</th>\n",
              "      <th>n_estimators</th>\n",
              "      <th>score</th>\n",
              "      <th>RMSLE</th>\n",
              "    </tr>\n",
              "  </thead>\n",
              "  <tbody>\n",
              "    <tr>\n",
              "      <th>0</th>\n",
              "      <td>rf</td>\n",
              "      <td>30</td>\n",
              "      <td>200</td>\n",
              "      <td>-0.026343</td>\n",
              "      <td>0.162307</td>\n",
              "    </tr>\n",
              "    <tr>\n",
              "      <th>1</th>\n",
              "      <td>rf</td>\n",
              "      <td>-1</td>\n",
              "      <td>200</td>\n",
              "      <td>-0.026343</td>\n",
              "      <td>0.162307</td>\n",
              "    </tr>\n",
              "    <tr>\n",
              "      <th>2</th>\n",
              "      <td>gbdt</td>\n",
              "      <td>30</td>\n",
              "      <td>200</td>\n",
              "      <td>-0.026343</td>\n",
              "      <td>0.162307</td>\n",
              "    </tr>\n",
              "    <tr>\n",
              "      <th>3</th>\n",
              "      <td>gbdt</td>\n",
              "      <td>-1</td>\n",
              "      <td>200</td>\n",
              "      <td>-0.026343</td>\n",
              "      <td>0.162307</td>\n",
              "    </tr>\n",
              "    <tr>\n",
              "      <th>4</th>\n",
              "      <td>dart</td>\n",
              "      <td>30</td>\n",
              "      <td>200</td>\n",
              "      <td>-0.026343</td>\n",
              "      <td>0.162307</td>\n",
              "    </tr>\n",
              "    <tr>\n",
              "      <th>5</th>\n",
              "      <td>dart</td>\n",
              "      <td>-1</td>\n",
              "      <td>200</td>\n",
              "      <td>-0.026343</td>\n",
              "      <td>0.162307</td>\n",
              "    </tr>\n",
              "  </tbody>\n",
              "</table>\n",
              "</div>\n",
              "      <button class=\"colab-df-convert\" onclick=\"convertToInteractive('df-2e4857ca-2f36-4c63-8b1a-49e6f70493e2')\"\n",
              "              title=\"Convert this dataframe to an interactive table.\"\n",
              "              style=\"display:none;\">\n",
              "        \n",
              "  <svg xmlns=\"http://www.w3.org/2000/svg\" height=\"24px\"viewBox=\"0 0 24 24\"\n",
              "       width=\"24px\">\n",
              "    <path d=\"M0 0h24v24H0V0z\" fill=\"none\"/>\n",
              "    <path d=\"M18.56 5.44l.94 2.06.94-2.06 2.06-.94-2.06-.94-.94-2.06-.94 2.06-2.06.94zm-11 1L8.5 8.5l.94-2.06 2.06-.94-2.06-.94L8.5 2.5l-.94 2.06-2.06.94zm10 10l.94 2.06.94-2.06 2.06-.94-2.06-.94-.94-2.06-.94 2.06-2.06.94z\"/><path d=\"M17.41 7.96l-1.37-1.37c-.4-.4-.92-.59-1.43-.59-.52 0-1.04.2-1.43.59L10.3 9.45l-7.72 7.72c-.78.78-.78 2.05 0 2.83L4 21.41c.39.39.9.59 1.41.59.51 0 1.02-.2 1.41-.59l7.78-7.78 2.81-2.81c.8-.78.8-2.07 0-2.86zM5.41 20L4 18.59l7.72-7.72 1.47 1.35L5.41 20z\"/>\n",
              "  </svg>\n",
              "      </button>\n",
              "      \n",
              "  <style>\n",
              "    .colab-df-container {\n",
              "      display:flex;\n",
              "      flex-wrap:wrap;\n",
              "      gap: 12px;\n",
              "    }\n",
              "\n",
              "    .colab-df-convert {\n",
              "      background-color: #E8F0FE;\n",
              "      border: none;\n",
              "      border-radius: 50%;\n",
              "      cursor: pointer;\n",
              "      display: none;\n",
              "      fill: #1967D2;\n",
              "      height: 32px;\n",
              "      padding: 0 0 0 0;\n",
              "      width: 32px;\n",
              "    }\n",
              "\n",
              "    .colab-df-convert:hover {\n",
              "      background-color: #E2EBFA;\n",
              "      box-shadow: 0px 1px 2px rgba(60, 64, 67, 0.3), 0px 1px 3px 1px rgba(60, 64, 67, 0.15);\n",
              "      fill: #174EA6;\n",
              "    }\n",
              "\n",
              "    [theme=dark] .colab-df-convert {\n",
              "      background-color: #3B4455;\n",
              "      fill: #D2E3FC;\n",
              "    }\n",
              "\n",
              "    [theme=dark] .colab-df-convert:hover {\n",
              "      background-color: #434B5C;\n",
              "      box-shadow: 0px 1px 3px 1px rgba(0, 0, 0, 0.15);\n",
              "      filter: drop-shadow(0px 1px 2px rgba(0, 0, 0, 0.3));\n",
              "      fill: #FFFFFF;\n",
              "    }\n",
              "  </style>\n",
              "\n",
              "      <script>\n",
              "        const buttonEl =\n",
              "          document.querySelector('#df-2e4857ca-2f36-4c63-8b1a-49e6f70493e2 button.colab-df-convert');\n",
              "        buttonEl.style.display =\n",
              "          google.colab.kernel.accessAllowed ? 'block' : 'none';\n",
              "\n",
              "        async function convertToInteractive(key) {\n",
              "          const element = document.querySelector('#df-2e4857ca-2f36-4c63-8b1a-49e6f70493e2');\n",
              "          const dataTable =\n",
              "            await google.colab.kernel.invokeFunction('convertToInteractive',\n",
              "                                                     [key], {});\n",
              "          if (!dataTable) return;\n",
              "\n",
              "          const docLinkHtml = 'Like what you see? Visit the ' +\n",
              "            '<a target=\"_blank\" href=https://colab.research.google.com/notebooks/data_table.ipynb>data table notebook</a>'\n",
              "            + ' to learn more about interactive tables.';\n",
              "          element.innerHTML = '';\n",
              "          dataTable['output_type'] = 'display_data';\n",
              "          await google.colab.output.renderOutput(dataTable, element);\n",
              "          const docLink = document.createElement('div');\n",
              "          docLink.innerHTML = docLinkHtml;\n",
              "          element.appendChild(docLink);\n",
              "        }\n",
              "      </script>\n",
              "    </div>\n",
              "  </div>\n",
              "  "
            ]
          },
          "metadata": {},
          "execution_count": 64
        }
      ]
    },
    {
      "cell_type": "markdown",
      "source": [
        "부스팅 타입에 상관없이 같은 성능을 보이며 mat_depth도 30이면 충분히 많은 것으로 보인다. "
      ],
      "metadata": {
        "id": "0mnAHkxuAqrv"
      }
    },
    {
      "cell_type": "code",
      "source": [
        "model = LGBMRegressor(max_depth=30, n_estimators=200, random_state=random_state)\n",
        "model.fit(train, y)\n",
        "prediction = model.predict(test)\n",
        "prediction"
      ],
      "metadata": {
        "colab": {
          "base_uri": "https://localhost:8080/"
        },
        "id": "MSiWqJTqUhis",
        "outputId": "f7922ba9-ed1e-4711-dd81-256c277a38b2"
      },
      "execution_count": 65,
      "outputs": [
        {
          "output_type": "execute_result",
          "data": {
            "text/plain": [
              "array([13.1357205 , 13.1036669 , 14.15048874, ..., 13.04793565,\n",
              "       12.71866146, 12.99881524])"
            ]
          },
          "metadata": {},
          "execution_count": 65
        }
      ]
    },
    {
      "cell_type": "code",
      "source": [
        "save_submission(model, train, y, test, 'lgbm', rmsle='0.1623')"
      ],
      "metadata": {
        "colab": {
          "base_uri": "https://localhost:8080/"
        },
        "id": "aIGuo9WoHTjV",
        "outputId": "47e1280d-a3f0-4c26-b9b6-f97168f43e33"
      },
      "execution_count": 66,
      "outputs": [
        {
          "output_type": "stream",
          "name": "stdout",
          "text": [
            "/content/drive/MyDrive/아이펠 데이터/kaggle_kakr_housing/data/submission_lgbm_RMSLE_0.1623.csv saved!\n"
          ]
        }
      ]
    },
    {
      "cell_type": "markdown",
      "source": [
        "그 결과는 113541.06830 이었다. 파라미터를 바꾼 것은 효과가 있었다.\n",
        "\n",
        "이번에는 파라미터가 아닌 예측 방법을 바꾸어 애버리지 블렌딩 모델을 사용해보기로 했다."
      ],
      "metadata": {
        "id": "VA6FfwgeI6uH"
      }
    },
    {
      "cell_type": "code",
      "source": [
        "# 3개의 모델 사용\n",
        "\n",
        "gboost = GradientBoostingRegressor(random_state=random_state)\n",
        "xgboost = xgb.XGBRegressor(random_state=random_state)\n",
        "lightgbm = lgb.LGBMRegressor(random_state=random_state)\n",
        "\n",
        "models = [{'model':gboost, 'name':'GradientBoosting'}, {'model':xgboost, 'name':'XGBoost'},\n",
        "          {'model':lightgbm, 'name':'LightGBM'}]"
      ],
      "metadata": {
        "id": "bW145y56HTgG"
      },
      "execution_count": 67,
      "outputs": []
    },
    {
      "cell_type": "code",
      "source": [
        "# 교차 검증/모델의 성능 간단히 평가하는 함수\n",
        "\n",
        "def get_cv_score(models):\n",
        "    kfold = KFold(n_splits=5).get_n_splits(train.values)\n",
        "    for m in models:\n",
        "        CV_score = np.mean(cross_val_score(m['model'], X=train.values, y=y, cv=kfold))\n",
        "        print(f\"Model: {m['name']}, CV score:{CV_score:.4f}\")"
      ],
      "metadata": {
        "id": "3VjmtCkVHTQ9"
      },
      "execution_count": 68,
      "outputs": []
    },
    {
      "cell_type": "code",
      "source": [
        "get_cv_score(models)"
      ],
      "metadata": {
        "colab": {
          "base_uri": "https://localhost:8080/"
        },
        "id": "zbtOttt1J1I8",
        "outputId": "c51e15b9-2e96-4d2e-819f-7fae5fa18d3a"
      },
      "execution_count": 69,
      "outputs": [
        {
          "output_type": "stream",
          "name": "stdout",
          "text": [
            "Model: GradientBoosting, CV score:0.8792\n",
            "[05:14:04] WARNING: /workspace/src/objective/regression_obj.cu:152: reg:linear is now deprecated in favor of reg:squarederror.\n",
            "[05:14:05] WARNING: /workspace/src/objective/regression_obj.cu:152: reg:linear is now deprecated in favor of reg:squarederror.\n",
            "[05:14:06] WARNING: /workspace/src/objective/regression_obj.cu:152: reg:linear is now deprecated in favor of reg:squarederror.\n",
            "[05:14:07] WARNING: /workspace/src/objective/regression_obj.cu:152: reg:linear is now deprecated in favor of reg:squarederror.\n",
            "[05:14:08] WARNING: /workspace/src/objective/regression_obj.cu:152: reg:linear is now deprecated in favor of reg:squarederror.\n",
            "Model: XGBoost, CV score:0.8779\n",
            "Model: LightGBM, CV score:0.9023\n"
          ]
        }
      ]
    },
    {
      "cell_type": "code",
      "source": [
        "# 애버리지 블렌딩 모델\n",
        "\n",
        "def AveragingBlending(models, x, y, sub_x):\n",
        "    for m in models : \n",
        "        m['model'].fit(x.values, y)\n",
        "    \n",
        "    predictions = np.column_stack([\n",
        "        m['model'].predict(sub_x.values) for m in models\n",
        "    ])\n",
        "    return np.mean(predictions, axis=1)\n"
      ],
      "metadata": {
        "id": "cyr2aLfmJ1HB"
      },
      "execution_count": 70,
      "outputs": []
    },
    {
      "cell_type": "code",
      "source": [
        "y_pred = AveragingBlending(models, train, y, test)\n",
        "y_pred = np.expm1(y_pred)\n",
        "print(len(y_pred))\n",
        "y_pred"
      ],
      "metadata": {
        "colab": {
          "base_uri": "https://localhost:8080/"
        },
        "id": "1yv2T5WUJ1Ej",
        "outputId": "ded3baf5-dbeb-42d7-c8f3-1240610b7e33"
      },
      "execution_count": 71,
      "outputs": [
        {
          "output_type": "stream",
          "name": "stdout",
          "text": [
            "[05:14:15] WARNING: /workspace/src/objective/regression_obj.cu:152: reg:linear is now deprecated in favor of reg:squarederror.\n",
            "6468\n"
          ]
        },
        {
          "output_type": "execute_result",
          "data": {
            "text/plain": [
              "array([ 536170.38203243,  401637.80414167, 1319548.60603804, ...,\n",
              "        440380.59759977,  343560.46434112,  428433.67951024])"
            ]
          },
          "metadata": {},
          "execution_count": 71
        }
      ]
    },
    {
      "cell_type": "code",
      "source": [
        "submission_path = join(data_dir, 'sample_submission.csv')\n",
        "submission = pd.read_csv(submission_path)\n",
        "submission.head()"
      ],
      "metadata": {
        "colab": {
          "base_uri": "https://localhost:8080/",
          "height": 206
        },
        "id": "gcJpEowbJ1Cw",
        "outputId": "4b0b8639-a9b4-4c54-93bc-9116599e158f"
      },
      "execution_count": 72,
      "outputs": [
        {
          "output_type": "execute_result",
          "data": {
            "text/plain": [
              "      id   price\n",
              "0  15035  100000\n",
              "1  15036  100000\n",
              "2  15037  100000\n",
              "3  15038  100000\n",
              "4  15039  100000"
            ],
            "text/html": [
              "\n",
              "  <div id=\"df-d3e840a3-39a4-4ba8-9ec0-66c2224a9d3b\">\n",
              "    <div class=\"colab-df-container\">\n",
              "      <div>\n",
              "<style scoped>\n",
              "    .dataframe tbody tr th:only-of-type {\n",
              "        vertical-align: middle;\n",
              "    }\n",
              "\n",
              "    .dataframe tbody tr th {\n",
              "        vertical-align: top;\n",
              "    }\n",
              "\n",
              "    .dataframe thead th {\n",
              "        text-align: right;\n",
              "    }\n",
              "</style>\n",
              "<table border=\"1\" class=\"dataframe\">\n",
              "  <thead>\n",
              "    <tr style=\"text-align: right;\">\n",
              "      <th></th>\n",
              "      <th>id</th>\n",
              "      <th>price</th>\n",
              "    </tr>\n",
              "  </thead>\n",
              "  <tbody>\n",
              "    <tr>\n",
              "      <th>0</th>\n",
              "      <td>15035</td>\n",
              "      <td>100000</td>\n",
              "    </tr>\n",
              "    <tr>\n",
              "      <th>1</th>\n",
              "      <td>15036</td>\n",
              "      <td>100000</td>\n",
              "    </tr>\n",
              "    <tr>\n",
              "      <th>2</th>\n",
              "      <td>15037</td>\n",
              "      <td>100000</td>\n",
              "    </tr>\n",
              "    <tr>\n",
              "      <th>3</th>\n",
              "      <td>15038</td>\n",
              "      <td>100000</td>\n",
              "    </tr>\n",
              "    <tr>\n",
              "      <th>4</th>\n",
              "      <td>15039</td>\n",
              "      <td>100000</td>\n",
              "    </tr>\n",
              "  </tbody>\n",
              "</table>\n",
              "</div>\n",
              "      <button class=\"colab-df-convert\" onclick=\"convertToInteractive('df-d3e840a3-39a4-4ba8-9ec0-66c2224a9d3b')\"\n",
              "              title=\"Convert this dataframe to an interactive table.\"\n",
              "              style=\"display:none;\">\n",
              "        \n",
              "  <svg xmlns=\"http://www.w3.org/2000/svg\" height=\"24px\"viewBox=\"0 0 24 24\"\n",
              "       width=\"24px\">\n",
              "    <path d=\"M0 0h24v24H0V0z\" fill=\"none\"/>\n",
              "    <path d=\"M18.56 5.44l.94 2.06.94-2.06 2.06-.94-2.06-.94-.94-2.06-.94 2.06-2.06.94zm-11 1L8.5 8.5l.94-2.06 2.06-.94-2.06-.94L8.5 2.5l-.94 2.06-2.06.94zm10 10l.94 2.06.94-2.06 2.06-.94-2.06-.94-.94-2.06-.94 2.06-2.06.94z\"/><path d=\"M17.41 7.96l-1.37-1.37c-.4-.4-.92-.59-1.43-.59-.52 0-1.04.2-1.43.59L10.3 9.45l-7.72 7.72c-.78.78-.78 2.05 0 2.83L4 21.41c.39.39.9.59 1.41.59.51 0 1.02-.2 1.41-.59l7.78-7.78 2.81-2.81c.8-.78.8-2.07 0-2.86zM5.41 20L4 18.59l7.72-7.72 1.47 1.35L5.41 20z\"/>\n",
              "  </svg>\n",
              "      </button>\n",
              "      \n",
              "  <style>\n",
              "    .colab-df-container {\n",
              "      display:flex;\n",
              "      flex-wrap:wrap;\n",
              "      gap: 12px;\n",
              "    }\n",
              "\n",
              "    .colab-df-convert {\n",
              "      background-color: #E8F0FE;\n",
              "      border: none;\n",
              "      border-radius: 50%;\n",
              "      cursor: pointer;\n",
              "      display: none;\n",
              "      fill: #1967D2;\n",
              "      height: 32px;\n",
              "      padding: 0 0 0 0;\n",
              "      width: 32px;\n",
              "    }\n",
              "\n",
              "    .colab-df-convert:hover {\n",
              "      background-color: #E2EBFA;\n",
              "      box-shadow: 0px 1px 2px rgba(60, 64, 67, 0.3), 0px 1px 3px 1px rgba(60, 64, 67, 0.15);\n",
              "      fill: #174EA6;\n",
              "    }\n",
              "\n",
              "    [theme=dark] .colab-df-convert {\n",
              "      background-color: #3B4455;\n",
              "      fill: #D2E3FC;\n",
              "    }\n",
              "\n",
              "    [theme=dark] .colab-df-convert:hover {\n",
              "      background-color: #434B5C;\n",
              "      box-shadow: 0px 1px 3px 1px rgba(0, 0, 0, 0.15);\n",
              "      filter: drop-shadow(0px 1px 2px rgba(0, 0, 0, 0.3));\n",
              "      fill: #FFFFFF;\n",
              "    }\n",
              "  </style>\n",
              "\n",
              "      <script>\n",
              "        const buttonEl =\n",
              "          document.querySelector('#df-d3e840a3-39a4-4ba8-9ec0-66c2224a9d3b button.colab-df-convert');\n",
              "        buttonEl.style.display =\n",
              "          google.colab.kernel.accessAllowed ? 'block' : 'none';\n",
              "\n",
              "        async function convertToInteractive(key) {\n",
              "          const element = document.querySelector('#df-d3e840a3-39a4-4ba8-9ec0-66c2224a9d3b');\n",
              "          const dataTable =\n",
              "            await google.colab.kernel.invokeFunction('convertToInteractive',\n",
              "                                                     [key], {});\n",
              "          if (!dataTable) return;\n",
              "\n",
              "          const docLinkHtml = 'Like what you see? Visit the ' +\n",
              "            '<a target=\"_blank\" href=https://colab.research.google.com/notebooks/data_table.ipynb>data table notebook</a>'\n",
              "            + ' to learn more about interactive tables.';\n",
              "          element.innerHTML = '';\n",
              "          dataTable['output_type'] = 'display_data';\n",
              "          await google.colab.output.renderOutput(dataTable, element);\n",
              "          const docLink = document.createElement('div');\n",
              "          docLink.innerHTML = docLinkHtml;\n",
              "          element.appendChild(docLink);\n",
              "        }\n",
              "      </script>\n",
              "    </div>\n",
              "  </div>\n",
              "  "
            ]
          },
          "metadata": {},
          "execution_count": 72
        }
      ]
    },
    {
      "cell_type": "code",
      "source": [
        "result = pd.DataFrame({\n",
        "    'id' : submission['id'], \n",
        "    'price' : y_pred\n",
        "})\n",
        "\n",
        "result.tail()"
      ],
      "metadata": {
        "colab": {
          "base_uri": "https://localhost:8080/",
          "height": 206
        },
        "id": "bXQhEzCXKcdJ",
        "outputId": "efef6d0d-866f-46b9-d31b-1133bf2a1061"
      },
      "execution_count": 73,
      "outputs": [
        {
          "output_type": "execute_result",
          "data": {
            "text/plain": [
              "         id          price\n",
              "6463  21498  235720.356210\n",
              "6464  21499  429180.649845\n",
              "6465  21500  440380.597600\n",
              "6466  21501  343560.464341\n",
              "6467  21502  428433.679510"
            ],
            "text/html": [
              "\n",
              "  <div id=\"df-fa27a871-4fe5-4a79-89b7-f396af28b096\">\n",
              "    <div class=\"colab-df-container\">\n",
              "      <div>\n",
              "<style scoped>\n",
              "    .dataframe tbody tr th:only-of-type {\n",
              "        vertical-align: middle;\n",
              "    }\n",
              "\n",
              "    .dataframe tbody tr th {\n",
              "        vertical-align: top;\n",
              "    }\n",
              "\n",
              "    .dataframe thead th {\n",
              "        text-align: right;\n",
              "    }\n",
              "</style>\n",
              "<table border=\"1\" class=\"dataframe\">\n",
              "  <thead>\n",
              "    <tr style=\"text-align: right;\">\n",
              "      <th></th>\n",
              "      <th>id</th>\n",
              "      <th>price</th>\n",
              "    </tr>\n",
              "  </thead>\n",
              "  <tbody>\n",
              "    <tr>\n",
              "      <th>6463</th>\n",
              "      <td>21498</td>\n",
              "      <td>235720.356210</td>\n",
              "    </tr>\n",
              "    <tr>\n",
              "      <th>6464</th>\n",
              "      <td>21499</td>\n",
              "      <td>429180.649845</td>\n",
              "    </tr>\n",
              "    <tr>\n",
              "      <th>6465</th>\n",
              "      <td>21500</td>\n",
              "      <td>440380.597600</td>\n",
              "    </tr>\n",
              "    <tr>\n",
              "      <th>6466</th>\n",
              "      <td>21501</td>\n",
              "      <td>343560.464341</td>\n",
              "    </tr>\n",
              "    <tr>\n",
              "      <th>6467</th>\n",
              "      <td>21502</td>\n",
              "      <td>428433.679510</td>\n",
              "    </tr>\n",
              "  </tbody>\n",
              "</table>\n",
              "</div>\n",
              "      <button class=\"colab-df-convert\" onclick=\"convertToInteractive('df-fa27a871-4fe5-4a79-89b7-f396af28b096')\"\n",
              "              title=\"Convert this dataframe to an interactive table.\"\n",
              "              style=\"display:none;\">\n",
              "        \n",
              "  <svg xmlns=\"http://www.w3.org/2000/svg\" height=\"24px\"viewBox=\"0 0 24 24\"\n",
              "       width=\"24px\">\n",
              "    <path d=\"M0 0h24v24H0V0z\" fill=\"none\"/>\n",
              "    <path d=\"M18.56 5.44l.94 2.06.94-2.06 2.06-.94-2.06-.94-.94-2.06-.94 2.06-2.06.94zm-11 1L8.5 8.5l.94-2.06 2.06-.94-2.06-.94L8.5 2.5l-.94 2.06-2.06.94zm10 10l.94 2.06.94-2.06 2.06-.94-2.06-.94-.94-2.06-.94 2.06-2.06.94z\"/><path d=\"M17.41 7.96l-1.37-1.37c-.4-.4-.92-.59-1.43-.59-.52 0-1.04.2-1.43.59L10.3 9.45l-7.72 7.72c-.78.78-.78 2.05 0 2.83L4 21.41c.39.39.9.59 1.41.59.51 0 1.02-.2 1.41-.59l7.78-7.78 2.81-2.81c.8-.78.8-2.07 0-2.86zM5.41 20L4 18.59l7.72-7.72 1.47 1.35L5.41 20z\"/>\n",
              "  </svg>\n",
              "      </button>\n",
              "      \n",
              "  <style>\n",
              "    .colab-df-container {\n",
              "      display:flex;\n",
              "      flex-wrap:wrap;\n",
              "      gap: 12px;\n",
              "    }\n",
              "\n",
              "    .colab-df-convert {\n",
              "      background-color: #E8F0FE;\n",
              "      border: none;\n",
              "      border-radius: 50%;\n",
              "      cursor: pointer;\n",
              "      display: none;\n",
              "      fill: #1967D2;\n",
              "      height: 32px;\n",
              "      padding: 0 0 0 0;\n",
              "      width: 32px;\n",
              "    }\n",
              "\n",
              "    .colab-df-convert:hover {\n",
              "      background-color: #E2EBFA;\n",
              "      box-shadow: 0px 1px 2px rgba(60, 64, 67, 0.3), 0px 1px 3px 1px rgba(60, 64, 67, 0.15);\n",
              "      fill: #174EA6;\n",
              "    }\n",
              "\n",
              "    [theme=dark] .colab-df-convert {\n",
              "      background-color: #3B4455;\n",
              "      fill: #D2E3FC;\n",
              "    }\n",
              "\n",
              "    [theme=dark] .colab-df-convert:hover {\n",
              "      background-color: #434B5C;\n",
              "      box-shadow: 0px 1px 3px 1px rgba(0, 0, 0, 0.15);\n",
              "      filter: drop-shadow(0px 1px 2px rgba(0, 0, 0, 0.3));\n",
              "      fill: #FFFFFF;\n",
              "    }\n",
              "  </style>\n",
              "\n",
              "      <script>\n",
              "        const buttonEl =\n",
              "          document.querySelector('#df-fa27a871-4fe5-4a79-89b7-f396af28b096 button.colab-df-convert');\n",
              "        buttonEl.style.display =\n",
              "          google.colab.kernel.accessAllowed ? 'block' : 'none';\n",
              "\n",
              "        async function convertToInteractive(key) {\n",
              "          const element = document.querySelector('#df-fa27a871-4fe5-4a79-89b7-f396af28b096');\n",
              "          const dataTable =\n",
              "            await google.colab.kernel.invokeFunction('convertToInteractive',\n",
              "                                                     [key], {});\n",
              "          if (!dataTable) return;\n",
              "\n",
              "          const docLinkHtml = 'Like what you see? Visit the ' +\n",
              "            '<a target=\"_blank\" href=https://colab.research.google.com/notebooks/data_table.ipynb>data table notebook</a>'\n",
              "            + ' to learn more about interactive tables.';\n",
              "          element.innerHTML = '';\n",
              "          dataTable['output_type'] = 'display_data';\n",
              "          await google.colab.output.renderOutput(dataTable, element);\n",
              "          const docLink = document.createElement('div');\n",
              "          docLink.innerHTML = docLinkHtml;\n",
              "          element.appendChild(docLink);\n",
              "        }\n",
              "      </script>\n",
              "    </div>\n",
              "  </div>\n",
              "  "
            ]
          },
          "metadata": {},
          "execution_count": 73
        }
      ]
    },
    {
      "cell_type": "code",
      "source": [
        "# 위 결과를 서브미션 파일에 저장\n",
        "\n",
        "my_submission_path = join(data_dir, 'submission_ab.csv')\n",
        "result.to_csv(my_submission_path, index=False)\n",
        "\n",
        "print(my_submission_path)"
      ],
      "metadata": {
        "colab": {
          "base_uri": "https://localhost:8080/"
        },
        "id": "6GIxcen6KcaR",
        "outputId": "d40b38fd-f2aa-4f65-f0cc-a246d575e870"
      },
      "execution_count": 74,
      "outputs": [
        {
          "output_type": "stream",
          "name": "stdout",
          "text": [
            "/content/drive/MyDrive/아이펠 데이터/kaggle_kakr_housing/data/submission_ab.csv\n"
          ]
        }
      ]
    },
    {
      "cell_type": "markdown",
      "source": [
        "그리고 그 결과 126804.29384 의 점수가 나왔다.\n",
        "\n",
        "오히려 결과가 더 나빠졌다. 이것은 그리 좋은 방법이 아닌 듯 하다.\n",
        "\n",
        "그 이유는 간단한데 위에서 이미 확인 했듯이 여러 모델 중 LGBMRegressor가 이번 데이터에서 가장 효과가 좋았기 때문이다. 따라서 각각의 모델로 얻은 결과를 평균을 내는 애버리지 블렌딩 기법을 사용했을 때 오히려 오차가 커지는 결과를 낸다."
      ],
      "metadata": {
        "id": "yyUB-1IALTud"
      }
    },
    {
      "cell_type": "code",
      "source": [
        "# 마지막으로 앞서 조금이나마 성능이 향상된 방법을 극단적으로 쓴다.\n",
        "\n",
        "model = LGBMRegressor(max_depth=300, n_estimators=2000, random_state=random_state)\n",
        "model.fit(train, y)\n",
        "prediction = model.predict(test)\n",
        "prediction"
      ],
      "metadata": {
        "colab": {
          "base_uri": "https://localhost:8080/"
        },
        "id": "5shg0J7nVZQF",
        "outputId": "fcf58c91-ab3c-499e-b3f6-7a1fca0686d2"
      },
      "execution_count": 82,
      "outputs": [
        {
          "output_type": "execute_result",
          "data": {
            "text/plain": [
              "array([13.1551713 , 13.11298768, 14.07189272, ..., 13.12118864,\n",
              "       12.72885517, 13.0307355 ])"
            ]
          },
          "metadata": {},
          "execution_count": 82
        }
      ]
    },
    {
      "cell_type": "code",
      "source": [
        "save_submission(model, train, y, test, 'lgbm', rmsle='?')\n",
        "\n",
        "# 점수는 111681.20175 점"
      ],
      "metadata": {
        "colab": {
          "base_uri": "https://localhost:8080/"
        },
        "id": "JoiN5fUVVpky",
        "outputId": "7670bcd9-2c87-4dee-bf5e-1ee7d510a76d"
      },
      "execution_count": 83,
      "outputs": [
        {
          "output_type": "stream",
          "name": "stdout",
          "text": [
            "/content/drive/MyDrive/아이펠 데이터/kaggle_kakr_housing/data/submission_lgbm_RMSLE_?.csv saved!\n"
          ]
        }
      ]
    },
    {
      "cell_type": "markdown",
      "source": [
        "위에서 max_depth가 30과 -1이 별 차이가 없다는 점을 확인했으므로 n_estimators값이 정확도에 영향을 주었음을 알 수 있다."
      ],
      "metadata": {
        "id": "wYTJRa9luhmT"
      }
    },
    {
      "cell_type": "markdown",
      "source": [
        "## 결과\n",
        "\n",
        "* LGBMRegressor(max_depth=10, n_estimators=100)  \n",
        "  * 114611점\n",
        "* Average Blending\n",
        "  * 126804점\n",
        "* LGBMRegressor(max_depth=300, n_estimators=2000)\n",
        "  * 111681점\n",
        "\n",
        "![2019 2nd ML month with KaKR _ Kaggle.png](data:image/png;base64,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)\n"
      ],
      "metadata": {
        "id": "5Tw5QaYltfrI"
      }
    },
    {
      "cell_type": "markdown",
      "source": [
        "# Reference\n",
        "\n",
        "http://machinelearningkorea.com/2019/09/29/lightgbm-%ED%8C%8C%EB%9D%BC%EB%AF%B8%ED%84%B0/  \n",
        "https://injo.tistory.com/48  \n",
        "https://nurilee.com/2020/04/03/lightgbm-definition-parameter-tuning/"
      ],
      "metadata": {
        "id": "v-AfnPFfNIDQ"
      }
    },
    {
      "cell_type": "markdown",
      "source": [
        "# 회고\n",
        "\n",
        "이번 실습에서 나는 집의 여러 조건들을 보고 가격을 예측하는 모델을 만들었다. 여러 모델을 비교하자 LGBMRegressor 가장 적합한 모델임을 확인했으며 따라서 이것을 사용했다.\n",
        "\n",
        "모델의 성능을 향상 시키기 위해 가장 중요한 것은 두 가지였는데 첫째는 데이터를 전처리하여 더 효율적으로 모델이 학습할 수 있도록 하는 것이었고 둘째는 하이퍼 파라미터 조정을 통해 더 나은 파라미터를 찾아내어 적용하는 것이었다. 이를 위해 그리드 탐색을 써서 어떤 값이 더 나은지 비교하는 과정을 지났다.\n",
        "\n",
        "데이터 전처리에서 불필요한 컬럼을 찾아내어 없앨 수도 있지만 어떤 컬럼이 필요가 없는지 알기 힘들다. 그리고 만약 그런 컬럼이 있다면 학습 과정에서 그 열에 해당하는 매개변수가 작아지고, 자연스럽게 영향력이 낮아질 것이다. 따라서 모델의 정확도에는 큰 변화가 없으리라 예상했기 때문에 그 부분은 넘어갔다.\n",
        "\n",
        "대신 date 컬럼을 바꿔주었는데 우선 우리에게 중요한 것은 앞의 6자 뿐이었으며, 이것 또한 년도+월로 표현되는 값이었다. 즉 앞의 4자는 10진법인데 뒤의 2자는 12진법이므로 둘을 분리할 필요가 있다고 생각했다. 그래서 하나의 date열을 year, month 두 개의 열로 나누어 따로 적용했다. 그렇게 하면 모델이 학습을 할 때 시간에 대해서 마치 사람이 직관적으로 받아들이는 것처럼 학습할 수 있을 것이라 생각했다.\n",
        "\n",
        "이렇게 모델을 적용한 결과 실제로 기존보다 캐글 점수가 낮게 나오면서 모델의 정확도가 더 높아짐을 확인할 수 있었다. 그러나 하이퍼 파라미터를 바꿀 때 디폴트 값에 비해 그리 크게 정확도가 높아지지 않았기 때문에 여기서 성능을 더 향상 시키기 위해서는 더 적합한 모델을 사용하는 것이 좋아보였다. 애버리지 블렌딩 과정에서 보았듯이 다른 모델로 완전히 대체한 것도 아님에도 불구하고 정확도가 크게 낮아짐을 볼 수 있었다. 비록 내가 테스트한 모델 가운데선 LGBMRegressor가 가장 나았지만 훨씬 더 정확한 모델이 존재할 수도 있기 때문에 만약 그런 모델을 찾아서 사용했다면 점수가 크게 달라졌으리라 예상한다.\n",
        "\n",
        "하이퍼 파라미터를 적용할 때 n_estimators의 값이 늘어날 때마다 점수에 영향이 있어서 이 값을 아주 크게 넣어서 적용해보았었다. 그러나 얼마 가지 않아 이 방법으론 정확도 상승에 한계가 금방 찾아왔다. 심지어 값이 늘어남에 따라 오히려 점수가 증가하기까지 했는데 이는 과적합의 문제로 보인다. 일반적으로 정확도를 상승시키는 파라미터라 할지라도 일정 수준 이상으로까지 정확도를 올려주지는 않으며 과할 경우 오히려 모델이 망가질 수도 있다는 사실을 깨달았다."
      ],
      "metadata": {
        "id": "UhxvgDfhNIA-"
      }
    }
  ]
}